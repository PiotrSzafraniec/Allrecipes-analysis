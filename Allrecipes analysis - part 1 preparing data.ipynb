{
 "cells": [
  {
   "cell_type": "markdown",
   "metadata": {},
   "source": [
    "# <center> Allrecipes analysis - part 1: preparing data </center>"
   ]
  },
  {
   "cell_type": "markdown",
   "metadata": {},
   "source": [
    "Data was collected with a web scraper available under the following Github repository - XXX. All data was collected and saved as a JSON file. Additionaly, the list of herbs was compiled from the Encyclopedia Britannica and other online sources. The scope of scraped data involves the following:\n",
    "\n",
    "- name: recipe name\n",
    "- prep: preparation time\n",
    "- cook: cooking time\n",
    "- additional: additional time\n",
    "- total: total time to prepare the recipe\n",
    "- servings: number of servings from recipe\n",
    "- yield: number of servings with appropriate measure unit\n",
    "- 5 stars: number of 5-star reviews received by the recipe\n",
    "- 4 stars: number of 4-star reviews received by the recipe\n",
    "- 3 stars: number of 3-star reviews received by the recipe\n",
    "- 2 stars: number of 2-star reviews received by the recipe\n",
    "- 1 stars: number of 1-star reviews received by the recipe\n",
    "- nutrition: list of nutrients with values (stored in a single string)\n",
    "- ingrediences: list of all ingrediences used in the recipe (storeed in single string)\n",
    "\n",
    "The objective is to prepare data for further exploratory analysis."
   ]
  },
  {
   "cell_type": "markdown",
   "metadata": {},
   "source": [
    "The first step to prepare data for further analysis is importing all modules that we are going to use throughout this process."
   ]
  },
  {
   "cell_type": "code",
   "execution_count": 1,
   "metadata": {},
   "outputs": [],
   "source": [
    "import pandas as pd\n",
    "import numpy as np\n",
    "import random"
   ]
  },
  {
   "cell_type": "markdown",
   "metadata": {},
   "source": [
    "The next step is to import data from the JSON file. We can do it with the following line of code:"
   ]
  },
  {
   "cell_type": "code",
   "execution_count": 2,
   "metadata": {},
   "outputs": [],
   "source": [
    "allrecipes_df = pd.read_json('data.json', orient = 'index')"
   ]
  },
  {
   "cell_type": "markdown",
   "metadata": {},
   "source": [
    "Let's pereform some basic data exploration. First of all we need to check what kind of data are we dealing with. To clarify that, we can print out all columns of the Dataframe, data types associated with each column and the first few rows of the data for the illustrative purposes."
   ]
  },
  {
   "cell_type": "code",
   "execution_count": 3,
   "metadata": {},
   "outputs": [
    {
     "name": "stdout",
     "output_type": "stream",
     "text": [
      "Index(['name', 'prep:', 'cook:', 'additional:', 'total:', 'Servings:',\n",
      "       'Yield:', '5 stars', '4 stars', '3 stars', '2 stars', '1 stars',\n",
      "       'nutrition', 'ingrediences'],\n",
      "      dtype='object')\n"
     ]
    }
   ],
   "source": [
    "print(allrecipes_df.columns)"
   ]
  },
  {
   "cell_type": "code",
   "execution_count": 4,
   "metadata": {},
   "outputs": [
    {
     "data": {
      "text/plain": [
       "name             object\n",
       "prep:            object\n",
       "cook:            object\n",
       "additional:      object\n",
       "total:           object\n",
       "Servings:         int64\n",
       "Yield:           object\n",
       "5 stars         float64\n",
       "4 stars         float64\n",
       "3 stars         float64\n",
       "2 stars         float64\n",
       "1 stars         float64\n",
       "nutrition        object\n",
       "ingrediences     object\n",
       "dtype: object"
      ]
     },
     "execution_count": 4,
     "metadata": {},
     "output_type": "execute_result"
    }
   ],
   "source": [
    "allrecipes_df.dtypes"
   ]
  },
  {
   "cell_type": "code",
   "execution_count": 5,
   "metadata": {},
   "outputs": [
    {
     "data": {
      "text/html": [
       "<div>\n",
       "<style scoped>\n",
       "    .dataframe tbody tr th:only-of-type {\n",
       "        vertical-align: middle;\n",
       "    }\n",
       "\n",
       "    .dataframe tbody tr th {\n",
       "        vertical-align: top;\n",
       "    }\n",
       "\n",
       "    .dataframe thead th {\n",
       "        text-align: right;\n",
       "    }\n",
       "</style>\n",
       "<table border=\"1\" class=\"dataframe\">\n",
       "  <thead>\n",
       "    <tr style=\"text-align: right;\">\n",
       "      <th></th>\n",
       "      <th>name</th>\n",
       "      <th>prep:</th>\n",
       "      <th>cook:</th>\n",
       "      <th>additional:</th>\n",
       "      <th>total:</th>\n",
       "      <th>Servings:</th>\n",
       "      <th>Yield:</th>\n",
       "      <th>5 stars</th>\n",
       "      <th>4 stars</th>\n",
       "      <th>3 stars</th>\n",
       "      <th>2 stars</th>\n",
       "      <th>1 stars</th>\n",
       "      <th>nutrition</th>\n",
       "      <th>ingrediences</th>\n",
       "    </tr>\n",
       "  </thead>\n",
       "  <tbody>\n",
       "    <tr>\n",
       "      <th>1</th>\n",
       "      <td>Juicy Roasted Chicken</td>\n",
       "      <td>10 mins</td>\n",
       "      <td>1 hr 15 mins</td>\n",
       "      <td>15 mins</td>\n",
       "      <td>1 hr 40 mins</td>\n",
       "      <td>6</td>\n",
       "      <td>6 servings</td>\n",
       "      <td>3179.0</td>\n",
       "      <td>538.0</td>\n",
       "      <td>147.0</td>\n",
       "      <td>47.0</td>\n",
       "      <td>42.0</td>\n",
       "      <td>423 calories; protein 30.9g; carbohydrates 1.2...</td>\n",
       "      <td>1 (3 pound) whole chicken, giblets removed,sal...</td>\n",
       "    </tr>\n",
       "    <tr>\n",
       "      <th>2</th>\n",
       "      <td>Microwave Corn on the Cob</td>\n",
       "      <td>NaN</td>\n",
       "      <td>5 mins</td>\n",
       "      <td>NaN</td>\n",
       "      <td>5 mins</td>\n",
       "      <td>1</td>\n",
       "      <td>1 serving</td>\n",
       "      <td>382.0</td>\n",
       "      <td>102.0</td>\n",
       "      <td>29.0</td>\n",
       "      <td>5.0</td>\n",
       "      <td>6.0</td>\n",
       "      <td>123 calories; protein 4.6g; carbohydrates 27.2...</td>\n",
       "      <td>1 ear corn, husked and cleaned</td>\n",
       "    </tr>\n",
       "    <tr>\n",
       "      <th>3</th>\n",
       "      <td>French Toast I</td>\n",
       "      <td>5 mins</td>\n",
       "      <td>15 mins</td>\n",
       "      <td>NaN</td>\n",
       "      <td>20 mins</td>\n",
       "      <td>3</td>\n",
       "      <td>6 slices french toast</td>\n",
       "      <td>1337.0</td>\n",
       "      <td>473.0</td>\n",
       "      <td>87.0</td>\n",
       "      <td>31.0</td>\n",
       "      <td>29.0</td>\n",
       "      <td>240 calories; protein 10.6g; carbohydrates 33....</td>\n",
       "      <td>6 thick slices bread,2  eggs,⅔ cup milk,¼ teas...</td>\n",
       "    </tr>\n",
       "    <tr>\n",
       "      <th>4</th>\n",
       "      <td>The Best Banana Pudding</td>\n",
       "      <td>25 mins</td>\n",
       "      <td>NaN</td>\n",
       "      <td>NaN</td>\n",
       "      <td>25 mins</td>\n",
       "      <td>20</td>\n",
       "      <td>20 servings</td>\n",
       "      <td>830.0</td>\n",
       "      <td>117.0</td>\n",
       "      <td>30.0</td>\n",
       "      <td>15.0</td>\n",
       "      <td>15.0</td>\n",
       "      <td>329 calories; protein 4.2g; carbohydrates 56.9...</td>\n",
       "      <td>1 (5 ounce) package instant vanilla pudding mi...</td>\n",
       "    </tr>\n",
       "    <tr>\n",
       "      <th>5</th>\n",
       "      <td>Simple Macaroni and Cheese</td>\n",
       "      <td>10 mins</td>\n",
       "      <td>20 mins</td>\n",
       "      <td>NaN</td>\n",
       "      <td>30 mins</td>\n",
       "      <td>4</td>\n",
       "      <td>4 servings</td>\n",
       "      <td>545.0</td>\n",
       "      <td>188.0</td>\n",
       "      <td>51.0</td>\n",
       "      <td>26.0</td>\n",
       "      <td>31.0</td>\n",
       "      <td>630 calories; protein 26.5g; carbohydrates 55g...</td>\n",
       "      <td>1 (8 ounce) box elbow macaroni,¼ cup butter,¼ ...</td>\n",
       "    </tr>\n",
       "  </tbody>\n",
       "</table>\n",
       "</div>"
      ],
      "text/plain": [
       "                         name    prep:         cook: additional:  \\\n",
       "1       Juicy Roasted Chicken  10 mins  1 hr 15 mins     15 mins   \n",
       "2   Microwave Corn on the Cob      NaN        5 mins         NaN   \n",
       "3              French Toast I   5 mins       15 mins         NaN   \n",
       "4     The Best Banana Pudding  25 mins           NaN         NaN   \n",
       "5  Simple Macaroni and Cheese  10 mins       20 mins         NaN   \n",
       "\n",
       "         total:  Servings:                 Yield:  5 stars  4 stars  3 stars  \\\n",
       "1  1 hr 40 mins          6             6 servings   3179.0    538.0    147.0   \n",
       "2        5 mins          1              1 serving    382.0    102.0     29.0   \n",
       "3       20 mins          3  6 slices french toast   1337.0    473.0     87.0   \n",
       "4       25 mins         20            20 servings    830.0    117.0     30.0   \n",
       "5       30 mins          4             4 servings    545.0    188.0     51.0   \n",
       "\n",
       "   2 stars  1 stars                                          nutrition  \\\n",
       "1     47.0     42.0  423 calories; protein 30.9g; carbohydrates 1.2...   \n",
       "2      5.0      6.0  123 calories; protein 4.6g; carbohydrates 27.2...   \n",
       "3     31.0     29.0  240 calories; protein 10.6g; carbohydrates 33....   \n",
       "4     15.0     15.0  329 calories; protein 4.2g; carbohydrates 56.9...   \n",
       "5     26.0     31.0  630 calories; protein 26.5g; carbohydrates 55g...   \n",
       "\n",
       "                                        ingrediences  \n",
       "1  1 (3 pound) whole chicken, giblets removed,sal...  \n",
       "2                     1 ear corn, husked and cleaned  \n",
       "3  6 thick slices bread,2  eggs,⅔ cup milk,¼ teas...  \n",
       "4  1 (5 ounce) package instant vanilla pudding mi...  \n",
       "5  1 (8 ounce) box elbow macaroni,¼ cup butter,¼ ...  "
      ]
     },
     "execution_count": 5,
     "metadata": {},
     "output_type": "execute_result"
    }
   ],
   "source": [
    "allrecipes_df.head()"
   ]
  },
  {
   "cell_type": "markdown",
   "metadata": {},
   "source": [
    "We can also check for some statistical measures (applied per column) with the Dataframe describe() method. This will omit all columns that are non-numerical."
   ]
  },
  {
   "cell_type": "code",
   "execution_count": 6,
   "metadata": {},
   "outputs": [
    {
     "data": {
      "text/html": [
       "<div>\n",
       "<style scoped>\n",
       "    .dataframe tbody tr th:only-of-type {\n",
       "        vertical-align: middle;\n",
       "    }\n",
       "\n",
       "    .dataframe tbody tr th {\n",
       "        vertical-align: top;\n",
       "    }\n",
       "\n",
       "    .dataframe thead th {\n",
       "        text-align: right;\n",
       "    }\n",
       "</style>\n",
       "<table border=\"1\" class=\"dataframe\">\n",
       "  <thead>\n",
       "    <tr style=\"text-align: right;\">\n",
       "      <th></th>\n",
       "      <th>Servings:</th>\n",
       "      <th>5 stars</th>\n",
       "      <th>4 stars</th>\n",
       "      <th>3 stars</th>\n",
       "      <th>2 stars</th>\n",
       "      <th>1 stars</th>\n",
       "    </tr>\n",
       "  </thead>\n",
       "  <tbody>\n",
       "    <tr>\n",
       "      <th>count</th>\n",
       "      <td>1000.000000</td>\n",
       "      <td>980.000000</td>\n",
       "      <td>980.000000</td>\n",
       "      <td>980.000000</td>\n",
       "      <td>980.000000</td>\n",
       "      <td>980.000000</td>\n",
       "    </tr>\n",
       "    <tr>\n",
       "      <th>mean</th>\n",
       "      <td>9.782000</td>\n",
       "      <td>859.734694</td>\n",
       "      <td>202.681633</td>\n",
       "      <td>52.773469</td>\n",
       "      <td>19.970408</td>\n",
       "      <td>17.451020</td>\n",
       "    </tr>\n",
       "    <tr>\n",
       "      <th>std</th>\n",
       "      <td>11.847736</td>\n",
       "      <td>1467.753844</td>\n",
       "      <td>282.735392</td>\n",
       "      <td>79.691308</td>\n",
       "      <td>32.956996</td>\n",
       "      <td>35.097481</td>\n",
       "    </tr>\n",
       "    <tr>\n",
       "      <th>min</th>\n",
       "      <td>1.000000</td>\n",
       "      <td>1.000000</td>\n",
       "      <td>0.000000</td>\n",
       "      <td>0.000000</td>\n",
       "      <td>0.000000</td>\n",
       "      <td>0.000000</td>\n",
       "    </tr>\n",
       "    <tr>\n",
       "      <th>25%</th>\n",
       "      <td>4.000000</td>\n",
       "      <td>133.750000</td>\n",
       "      <td>35.000000</td>\n",
       "      <td>8.000000</td>\n",
       "      <td>3.000000</td>\n",
       "      <td>2.000000</td>\n",
       "    </tr>\n",
       "    <tr>\n",
       "      <th>50%</th>\n",
       "      <td>6.000000</td>\n",
       "      <td>381.500000</td>\n",
       "      <td>102.500000</td>\n",
       "      <td>26.000000</td>\n",
       "      <td>9.000000</td>\n",
       "      <td>7.000000</td>\n",
       "    </tr>\n",
       "    <tr>\n",
       "      <th>75%</th>\n",
       "      <td>12.000000</td>\n",
       "      <td>934.750000</td>\n",
       "      <td>242.250000</td>\n",
       "      <td>63.000000</td>\n",
       "      <td>23.000000</td>\n",
       "      <td>18.000000</td>\n",
       "    </tr>\n",
       "    <tr>\n",
       "      <th>max</th>\n",
       "      <td>192.000000</td>\n",
       "      <td>14902.000000</td>\n",
       "      <td>2581.000000</td>\n",
       "      <td>810.000000</td>\n",
       "      <td>362.000000</td>\n",
       "      <td>606.000000</td>\n",
       "    </tr>\n",
       "  </tbody>\n",
       "</table>\n",
       "</div>"
      ],
      "text/plain": [
       "         Servings:       5 stars      4 stars     3 stars     2 stars  \\\n",
       "count  1000.000000    980.000000   980.000000  980.000000  980.000000   \n",
       "mean      9.782000    859.734694   202.681633   52.773469   19.970408   \n",
       "std      11.847736   1467.753844   282.735392   79.691308   32.956996   \n",
       "min       1.000000      1.000000     0.000000    0.000000    0.000000   \n",
       "25%       4.000000    133.750000    35.000000    8.000000    3.000000   \n",
       "50%       6.000000    381.500000   102.500000   26.000000    9.000000   \n",
       "75%      12.000000    934.750000   242.250000   63.000000   23.000000   \n",
       "max     192.000000  14902.000000  2581.000000  810.000000  362.000000   \n",
       "\n",
       "          1 stars  \n",
       "count  980.000000  \n",
       "mean    17.451020  \n",
       "std     35.097481  \n",
       "min      0.000000  \n",
       "25%      2.000000  \n",
       "50%      7.000000  \n",
       "75%     18.000000  \n",
       "max    606.000000  "
      ]
     },
     "execution_count": 6,
     "metadata": {},
     "output_type": "execute_result"
    }
   ],
   "source": [
    "allrecipes_df.describe()"
   ]
  },
  {
   "cell_type": "markdown",
   "metadata": {},
   "source": [
    "Finally let us check for any missing data both in the whole dataset (at least one cell in a given row is missing) and per column (count of missing values per column):"
   ]
  },
  {
   "cell_type": "code",
   "execution_count": 7,
   "metadata": {},
   "outputs": [
    {
     "name": "stdout",
     "output_type": "stream",
     "text": [
      "Number of rows with missing values: 769\n"
     ]
    }
   ],
   "source": [
    "rows_with_missing_values = allrecipes_df.isnull().any(axis = 1).sum() # in the whole dataset\n",
    "print(f'Number of rows with missing values: {rows_with_missing_values}')"
   ]
  },
  {
   "cell_type": "code",
   "execution_count": 8,
   "metadata": {},
   "outputs": [
    {
     "data": {
      "text/plain": [
       "name              0\n",
       "prep:            52\n",
       "cook:           183\n",
       "additional:     717\n",
       "total:           49\n",
       "Servings:         0\n",
       "Yield:            0\n",
       "5 stars          20\n",
       "4 stars          20\n",
       "3 stars          20\n",
       "2 stars          20\n",
       "1 stars          20\n",
       "nutrition         1\n",
       "ingrediences      0\n",
       "dtype: int64"
      ]
     },
     "execution_count": 8,
     "metadata": {},
     "output_type": "execute_result"
    }
   ],
   "source": [
    "allrecipes_df.isnull().sum(axis = 0) # count per column"
   ]
  },
  {
   "cell_type": "markdown",
   "metadata": {},
   "source": [
    "It looks like the most missing values are in the 'additional' column."
   ]
  },
  {
   "cell_type": "markdown",
   "metadata": {},
   "source": [
    "Once we've learned a little bit about the data that we are working with, it's time to fix names formatting of our dataset columns. We should remove all whitespaces, colon from the end of the string and put all names in lower case. We can do it with the following line of code:"
   ]
  },
  {
   "cell_type": "code",
   "execution_count": 9,
   "metadata": {},
   "outputs": [
    {
     "name": "stdout",
     "output_type": "stream",
     "text": [
      "Index(['name', 'prep', 'cook', 'additional', 'total', 'servings', 'yield',\n",
      "       '5 stars', '4 stars', '3 stars', '2 stars', '1 stars', 'nutrition',\n",
      "       'ingrediences'],\n",
      "      dtype='object')\n"
     ]
    }
   ],
   "source": [
    "allrecipes_df.rename(columns = lambda x: x.lower().strip().strip(':'), inplace = True)\n",
    "print(allrecipes_df.columns)"
   ]
  },
  {
   "cell_type": "markdown",
   "metadata": {},
   "source": [
    "Once we've fixed the column names formatting, it's time to create some new columns with valuable data and to fix existing columns, so that they are ready for further analysis. Let's start with creating column with an overall score of a recipe."
   ]
  },
  {
   "cell_type": "code",
   "execution_count": 10,
   "metadata": {},
   "outputs": [],
   "source": [
    "allrecipes_df['recipe_score'] = (allrecipes_df['1 stars'] * 1\n",
    "                                + allrecipes_df['2 stars'] * 2\n",
    "                                + allrecipes_df['3 stars'] * 3\n",
    "                                + allrecipes_df['4 stars'] * 4\n",
    "                                + allrecipes_df['5 stars'] * 5) / (allrecipes_df['1 stars'] \n",
    "                                                                   + allrecipes_df['2 stars'] \n",
    "                                                                   + allrecipes_df['3 stars'] \n",
    "                                                                   + allrecipes_df['4 stars'] \n",
    "                                                                   + allrecipes_df['5 stars'])"
   ]
  },
  {
   "cell_type": "markdown",
   "metadata": {},
   "source": [
    "Wee should also create a column containing number of total reviews that recipe got. Without it, it would be difficult to asses whether the overall score is representative or not."
   ]
  },
  {
   "cell_type": "code",
   "execution_count": 11,
   "metadata": {},
   "outputs": [],
   "source": [
    "allrecipes_df['number_of_reviews'] = (allrecipes_df['1 stars']\n",
    "                                     + allrecipes_df['2 stars']\n",
    "                                     + allrecipes_df['3 stars']\n",
    "                                     + allrecipes_df['4 stars']\n",
    "                                     + allrecipes_df['5 stars'])"
   ]
  },
  {
   "cell_type": "markdown",
   "metadata": {},
   "source": [
    "We've learned that 'nutrients' column contains information regarding nutritional components of the prepared meal but it would be nice to have all of those information in separate columns. Firstly we should check how exactly are those information stored and whether there are some missing data. If missing values occur, we might need to put in some exception handling during nutrients separation."
   ]
  },
  {
   "cell_type": "code",
   "execution_count": 12,
   "metadata": {},
   "outputs": [
    {
     "data": {
      "text/plain": [
       "1     423 calories; protein 30.9g; carbohydrates 1.2...\n",
       "2     123 calories; protein 4.6g; carbohydrates 27.2...\n",
       "3     240 calories; protein 10.6g; carbohydrates 33....\n",
       "4     329 calories; protein 4.2g; carbohydrates 56.9...\n",
       "5     630 calories; protein 26.5g; carbohydrates 55g...\n",
       "6     507 calories; protein 33.1g; carbohydrates 8.7...\n",
       "7     170 calories; protein 4.8g; carbohydrates 28.1...\n",
       "8     247 calories; protein 6.8g; carbohydrates 33.5...\n",
       "9     333 calories; protein 9.8g; carbohydrates 30.8...\n",
       "10    252 calories; protein 4.5g; carbohydrates 29.7...\n",
       "Name: nutrition, dtype: object"
      ]
     },
     "execution_count": 12,
     "metadata": {},
     "output_type": "execute_result"
    }
   ],
   "source": [
    "allrecipes_df['nutrition'].head(10)"
   ]
  },
  {
   "cell_type": "code",
   "execution_count": 13,
   "metadata": {},
   "outputs": [
    {
     "data": {
      "text/html": [
       "<div>\n",
       "<style scoped>\n",
       "    .dataframe tbody tr th:only-of-type {\n",
       "        vertical-align: middle;\n",
       "    }\n",
       "\n",
       "    .dataframe tbody tr th {\n",
       "        vertical-align: top;\n",
       "    }\n",
       "\n",
       "    .dataframe thead th {\n",
       "        text-align: right;\n",
       "    }\n",
       "</style>\n",
       "<table border=\"1\" class=\"dataframe\">\n",
       "  <thead>\n",
       "    <tr style=\"text-align: right;\">\n",
       "      <th></th>\n",
       "      <th>name</th>\n",
       "      <th>prep</th>\n",
       "      <th>cook</th>\n",
       "      <th>additional</th>\n",
       "      <th>total</th>\n",
       "      <th>servings</th>\n",
       "      <th>yield</th>\n",
       "      <th>5 stars</th>\n",
       "      <th>4 stars</th>\n",
       "      <th>3 stars</th>\n",
       "      <th>2 stars</th>\n",
       "      <th>1 stars</th>\n",
       "      <th>nutrition</th>\n",
       "      <th>ingrediences</th>\n",
       "      <th>recipe_score</th>\n",
       "      <th>number_of_reviews</th>\n",
       "    </tr>\n",
       "  </thead>\n",
       "  <tbody>\n",
       "    <tr>\n",
       "      <th>368</th>\n",
       "      <td>Campbell's® Tuna Noodle Casserole</td>\n",
       "      <td>10 mins</td>\n",
       "      <td>35 mins</td>\n",
       "      <td>NaN</td>\n",
       "      <td>45 mins</td>\n",
       "      <td>8</td>\n",
       "      <td>8 servings</td>\n",
       "      <td>252.0</td>\n",
       "      <td>147.0</td>\n",
       "      <td>47.0</td>\n",
       "      <td>10.0</td>\n",
       "      <td>3.0</td>\n",
       "      <td>None</td>\n",
       "      <td>2 (10.75 ounce) cans  Campbell's® Condensed Cr...</td>\n",
       "      <td>4.383442</td>\n",
       "      <td>459.0</td>\n",
       "    </tr>\n",
       "  </tbody>\n",
       "</table>\n",
       "</div>"
      ],
      "text/plain": [
       "                                  name     prep     cook additional    total  \\\n",
       "368  Campbell's® Tuna Noodle Casserole  10 mins  35 mins        NaN  45 mins   \n",
       "\n",
       "     servings       yield  5 stars  4 stars  3 stars  2 stars  1 stars  \\\n",
       "368         8  8 servings    252.0    147.0     47.0     10.0      3.0   \n",
       "\n",
       "    nutrition                                       ingrediences  \\\n",
       "368      None  2 (10.75 ounce) cans  Campbell's® Condensed Cr...   \n",
       "\n",
       "     recipe_score  number_of_reviews  \n",
       "368      4.383442              459.0  "
      ]
     },
     "execution_count": 13,
     "metadata": {},
     "output_type": "execute_result"
    }
   ],
   "source": [
    "allrecipes_df[allrecipes_df['nutrition'].isnull()]   "
   ]
  },
  {
   "cell_type": "markdown",
   "metadata": {},
   "source": [
    "It seems that we have one recipe without any information regarding nutrients. Despite that fact, it is time to break down nutrients from nutrition column into separate columns. We can start with creating columns per each nutrient existing in the 'nutrition' column and populating it with the default null value."
   ]
  },
  {
   "cell_type": "code",
   "execution_count": 14,
   "metadata": {},
   "outputs": [],
   "source": [
    "allrecipes_df['calories'] = np.nan\n",
    "allrecipes_df['protein'] = np.nan\n",
    "allrecipes_df['carbohydrates'] = np.nan\n",
    "allrecipes_df['fat'] = np.nan\n",
    "allrecipes_df['cholesterol'] = np.nan\n",
    "allrecipes_df['sodium'] = np.nan"
   ]
  },
  {
   "cell_type": "markdown",
   "metadata": {},
   "source": [
    "Here we will iterate over each row of the nutrition column and split the string into a list. Since we know that value associated with each nutrient lies directly behind it in the list, we can populate the dataframe columns representing specific nutrients based on the simple logic. If nutrient exists in the list, the amount of nutrient will always be the next value lying right next to it. The only exception are calories where the value lies before the name of nutritional component."
   ]
  },
  {
   "cell_type": "code",
   "execution_count": 15,
   "metadata": {},
   "outputs": [],
   "source": [
    "for index, nutrition_string in allrecipes_df['nutrition'].iteritems():\n",
    "    try:\n",
    "        nutrition_list = nutrition_string.split()\n",
    "        nutrition_list = [value.strip().strip(';') for value in nutrition_list]\n",
    "        for i in range(len(nutrition_list)):\n",
    "            \n",
    "            if nutrition_list[i] == 'calories':\n",
    "                allrecipes_df.loc[index, 'calories'] = nutrition_list[i-1]\n",
    "                \n",
    "            if nutrition_list[i] == 'protein':\n",
    "                allrecipes_df.loc[index, 'protein'] = nutrition_list[i+1]\n",
    "                    \n",
    "            if nutrition_list[i] == 'carbohydrates':\n",
    "                allrecipes_df.loc[index, 'carbohydrates'] = nutrition_list[i+1]\n",
    "                \n",
    "            if nutrition_list[i] == 'fat':\n",
    "                allrecipes_df.loc[index, 'fat'] = nutrition_list[i+1]\n",
    "                \n",
    "            if nutrition_list[i] == 'cholesterol':\n",
    "                allrecipes_df.loc[index, 'cholesterol'] = nutrition_list[i+1]\n",
    "                \n",
    "            if nutrition_list[i] == 'sodium':\n",
    "                allrecipes_df.loc[index, 'sodium'] = nutrition_list[i+1]\n",
    "    except:\n",
    "        continue"
   ]
  },
  {
   "cell_type": "markdown",
   "metadata": {},
   "source": [
    "We should compare the random number of samples to check whether we maintained nutrients data accuracy."
   ]
  },
  {
   "cell_type": "code",
   "execution_count": 16,
   "metadata": {},
   "outputs": [
    {
     "name": "stdout",
     "output_type": "stream",
     "text": [
      "\n",
      "Recipe number 407:\n",
      "369 calories; protein 0.4g; carbohydrates 49.2g; fat 6.7g; sodium 30.8mg.\n",
      "\n",
      "calories             369\n",
      "protein             0.4g\n",
      "carbohydrates      49.2g\n",
      "fat                 6.7g\n",
      "cholesterol          NaN\n",
      "sodium           30.8mg.\n",
      "Name: 407, dtype: object\n",
      "\n",
      "Recipe number 914:\n",
      "554 calories; protein 31.8g; carbohydrates 17.1g; fat 39.6g; cholesterol 91.6mg; sodium 768.3mg.\n",
      "\n",
      "calories              554\n",
      "protein             31.8g\n",
      "carbohydrates       17.1g\n",
      "fat                 39.6g\n",
      "cholesterol        91.6mg\n",
      "sodium           768.3mg.\n",
      "Name: 914, dtype: object\n",
      "\n",
      "Recipe number 962:\n",
      "265 calories; protein 4.9g; carbohydrates 35g; fat 11.9g; cholesterol 2mg; sodium 166.6mg.\n",
      "\n",
      "calories              265\n",
      "protein              4.9g\n",
      "carbohydrates         35g\n",
      "fat                 11.9g\n",
      "cholesterol           2mg\n",
      "sodium           166.6mg.\n",
      "Name: 962, dtype: object\n",
      "\n",
      "Recipe number 553:\n",
      "385 calories; protein 18.1g; carbohydrates 37g; fat 18g; cholesterol 44.8mg; sodium 1244.6mg.\n",
      "\n",
      "calories               385\n",
      "protein              18.1g\n",
      "carbohydrates          37g\n",
      "fat                    18g\n",
      "cholesterol         44.8mg\n",
      "sodium           1244.6mg.\n",
      "Name: 553, dtype: object\n",
      "\n",
      "Recipe number 764:\n",
      "122 calories; protein 1.4g; carbohydrates 13g; fat 7.4g; cholesterol 18.7mg; sodium 85.1mg.\n",
      "\n",
      "calories             122\n",
      "protein             1.4g\n",
      "carbohydrates        13g\n",
      "fat                 7.4g\n",
      "cholesterol       18.7mg\n",
      "sodium           85.1mg.\n",
      "Name: 764, dtype: object\n"
     ]
    }
   ],
   "source": [
    "random_index = random.sample(range(0, 1000), 5)\n",
    "\n",
    "for index in random_index:\n",
    "    print('\\nRecipe number ' + str(index+1) + ':')\n",
    "    print(allrecipes_df['nutrition'].iloc[index].strip('Full Nutrition'))\n",
    "    print(allrecipes_df.iloc[index, 16:])"
   ]
  },
  {
   "cell_type": "markdown",
   "metadata": {},
   "source": [
    "Seems like everything worked fine. Now let's change data type of nutrients columns from string to float and remove the unnecesary trailing indicating measuring unit. We will include it in the name of the column."
   ]
  },
  {
   "cell_type": "code",
   "execution_count": 17,
   "metadata": {},
   "outputs": [],
   "source": [
    "allrecipes_df['protein'] = allrecipes_df['protein'].str.rstrip('g').apply(float)\n",
    "allrecipes_df['carbohydrates'] = allrecipes_df['carbohydrates'].str.rstrip('g').apply(float)\n",
    "allrecipes_df['fat'] = allrecipes_df['fat'].str.rstrip('g').apply(float)\n",
    "allrecipes_df['cholesterol'] = allrecipes_df['cholesterol'].str.rstrip('mg').apply(float)\n",
    "allrecipes_df['sodium'] = allrecipes_df['sodium'].str.rstrip('mg.').apply(float)\n",
    "allrecipes_df['calories'] = allrecipes_df['calories'].apply(float)"
   ]
  },
  {
   "cell_type": "code",
   "execution_count": 18,
   "metadata": {},
   "outputs": [],
   "source": [
    "new_nutrient_names = {'protein' : 'protein [g]',\n",
    "                      'carbohydrates' : 'carbohydrates [g]',\n",
    "                      'fat' : 'fat [g]',\n",
    "                      'cholesterol' : 'cholesterol [mg]',\n",
    "                      'sodium' : 'sodium [mg]'}\n",
    "\n",
    "allrecipes_df.rename(columns = new_nutrient_names, inplace = True)"
   ]
  },
  {
   "cell_type": "markdown",
   "metadata": {},
   "source": [
    "Since we now have a column containing information on the caloric value of a recipe, we can divide it by the number of servings and generate some data on the calories per portion."
   ]
  },
  {
   "cell_type": "code",
   "execution_count": 19,
   "metadata": {},
   "outputs": [],
   "source": [
    "allrecipes_df['calories_per_serving'] = np.ceil(allrecipes_df['calories'] / allrecipes_df['servings'])"
   ]
  },
  {
   "cell_type": "markdown",
   "metadata": {},
   "source": [
    "Let's see how our data looks like at this point."
   ]
  },
  {
   "cell_type": "code",
   "execution_count": 20,
   "metadata": {},
   "outputs": [
    {
     "data": {
      "text/html": [
       "<div>\n",
       "<style scoped>\n",
       "    .dataframe tbody tr th:only-of-type {\n",
       "        vertical-align: middle;\n",
       "    }\n",
       "\n",
       "    .dataframe tbody tr th {\n",
       "        vertical-align: top;\n",
       "    }\n",
       "\n",
       "    .dataframe thead th {\n",
       "        text-align: right;\n",
       "    }\n",
       "</style>\n",
       "<table border=\"1\" class=\"dataframe\">\n",
       "  <thead>\n",
       "    <tr style=\"text-align: right;\">\n",
       "      <th></th>\n",
       "      <th>name</th>\n",
       "      <th>prep</th>\n",
       "      <th>cook</th>\n",
       "      <th>additional</th>\n",
       "      <th>total</th>\n",
       "      <th>servings</th>\n",
       "      <th>yield</th>\n",
       "      <th>5 stars</th>\n",
       "      <th>4 stars</th>\n",
       "      <th>3 stars</th>\n",
       "      <th>...</th>\n",
       "      <th>ingrediences</th>\n",
       "      <th>recipe_score</th>\n",
       "      <th>number_of_reviews</th>\n",
       "      <th>calories</th>\n",
       "      <th>protein [g]</th>\n",
       "      <th>carbohydrates [g]</th>\n",
       "      <th>fat [g]</th>\n",
       "      <th>cholesterol [mg]</th>\n",
       "      <th>sodium [mg]</th>\n",
       "      <th>calories_per_serving</th>\n",
       "    </tr>\n",
       "  </thead>\n",
       "  <tbody>\n",
       "    <tr>\n",
       "      <th>1</th>\n",
       "      <td>Juicy Roasted Chicken</td>\n",
       "      <td>10 mins</td>\n",
       "      <td>1 hr 15 mins</td>\n",
       "      <td>15 mins</td>\n",
       "      <td>1 hr 40 mins</td>\n",
       "      <td>6</td>\n",
       "      <td>6 servings</td>\n",
       "      <td>3179.0</td>\n",
       "      <td>538.0</td>\n",
       "      <td>147.0</td>\n",
       "      <td>...</td>\n",
       "      <td>1 (3 pound) whole chicken, giblets removed,sal...</td>\n",
       "      <td>4.711358</td>\n",
       "      <td>3953.0</td>\n",
       "      <td>423.0</td>\n",
       "      <td>30.9</td>\n",
       "      <td>1.2</td>\n",
       "      <td>32.1</td>\n",
       "      <td>97.0</td>\n",
       "      <td>661.9</td>\n",
       "      <td>71.0</td>\n",
       "    </tr>\n",
       "    <tr>\n",
       "      <th>2</th>\n",
       "      <td>Microwave Corn on the Cob</td>\n",
       "      <td>NaN</td>\n",
       "      <td>5 mins</td>\n",
       "      <td>NaN</td>\n",
       "      <td>5 mins</td>\n",
       "      <td>1</td>\n",
       "      <td>1 serving</td>\n",
       "      <td>382.0</td>\n",
       "      <td>102.0</td>\n",
       "      <td>29.0</td>\n",
       "      <td>...</td>\n",
       "      <td>1 ear corn, husked and cleaned</td>\n",
       "      <td>4.620229</td>\n",
       "      <td>524.0</td>\n",
       "      <td>123.0</td>\n",
       "      <td>4.6</td>\n",
       "      <td>27.2</td>\n",
       "      <td>1.7</td>\n",
       "      <td>NaN</td>\n",
       "      <td>21.5</td>\n",
       "      <td>123.0</td>\n",
       "    </tr>\n",
       "    <tr>\n",
       "      <th>3</th>\n",
       "      <td>French Toast I</td>\n",
       "      <td>5 mins</td>\n",
       "      <td>15 mins</td>\n",
       "      <td>NaN</td>\n",
       "      <td>20 mins</td>\n",
       "      <td>3</td>\n",
       "      <td>6 slices french toast</td>\n",
       "      <td>1337.0</td>\n",
       "      <td>473.0</td>\n",
       "      <td>87.0</td>\n",
       "      <td>...</td>\n",
       "      <td>6 thick slices bread,2  eggs,⅔ cup milk,¼ teas...</td>\n",
       "      <td>4.562596</td>\n",
       "      <td>1957.0</td>\n",
       "      <td>240.0</td>\n",
       "      <td>10.6</td>\n",
       "      <td>33.6</td>\n",
       "      <td>6.4</td>\n",
       "      <td>128.3</td>\n",
       "      <td>477.7</td>\n",
       "      <td>80.0</td>\n",
       "    </tr>\n",
       "    <tr>\n",
       "      <th>4</th>\n",
       "      <td>The Best Banana Pudding</td>\n",
       "      <td>25 mins</td>\n",
       "      <td>NaN</td>\n",
       "      <td>NaN</td>\n",
       "      <td>25 mins</td>\n",
       "      <td>20</td>\n",
       "      <td>20 servings</td>\n",
       "      <td>830.0</td>\n",
       "      <td>117.0</td>\n",
       "      <td>30.0</td>\n",
       "      <td>...</td>\n",
       "      <td>1 (5 ounce) package instant vanilla pudding mi...</td>\n",
       "      <td>4.719960</td>\n",
       "      <td>1007.0</td>\n",
       "      <td>329.0</td>\n",
       "      <td>4.2</td>\n",
       "      <td>56.9</td>\n",
       "      <td>9.6</td>\n",
       "      <td>8.6</td>\n",
       "      <td>205.2</td>\n",
       "      <td>17.0</td>\n",
       "    </tr>\n",
       "    <tr>\n",
       "      <th>5</th>\n",
       "      <td>Simple Macaroni and Cheese</td>\n",
       "      <td>10 mins</td>\n",
       "      <td>20 mins</td>\n",
       "      <td>NaN</td>\n",
       "      <td>30 mins</td>\n",
       "      <td>4</td>\n",
       "      <td>4 servings</td>\n",
       "      <td>545.0</td>\n",
       "      <td>188.0</td>\n",
       "      <td>51.0</td>\n",
       "      <td>...</td>\n",
       "      <td>1 (8 ounce) box elbow macaroni,¼ cup butter,¼ ...</td>\n",
       "      <td>4.414982</td>\n",
       "      <td>841.0</td>\n",
       "      <td>630.0</td>\n",
       "      <td>26.5</td>\n",
       "      <td>55.0</td>\n",
       "      <td>33.6</td>\n",
       "      <td>99.6</td>\n",
       "      <td>777.0</td>\n",
       "      <td>158.0</td>\n",
       "    </tr>\n",
       "  </tbody>\n",
       "</table>\n",
       "<p>5 rows × 23 columns</p>\n",
       "</div>"
      ],
      "text/plain": [
       "                         name     prep          cook additional         total  \\\n",
       "1       Juicy Roasted Chicken  10 mins  1 hr 15 mins    15 mins  1 hr 40 mins   \n",
       "2   Microwave Corn on the Cob      NaN        5 mins        NaN        5 mins   \n",
       "3              French Toast I   5 mins       15 mins        NaN       20 mins   \n",
       "4     The Best Banana Pudding  25 mins           NaN        NaN       25 mins   \n",
       "5  Simple Macaroni and Cheese  10 mins       20 mins        NaN       30 mins   \n",
       "\n",
       "   servings                  yield  5 stars  4 stars  3 stars  ...  \\\n",
       "1         6             6 servings   3179.0    538.0    147.0  ...   \n",
       "2         1              1 serving    382.0    102.0     29.0  ...   \n",
       "3         3  6 slices french toast   1337.0    473.0     87.0  ...   \n",
       "4        20            20 servings    830.0    117.0     30.0  ...   \n",
       "5         4             4 servings    545.0    188.0     51.0  ...   \n",
       "\n",
       "                                        ingrediences  recipe_score  \\\n",
       "1  1 (3 pound) whole chicken, giblets removed,sal...      4.711358   \n",
       "2                     1 ear corn, husked and cleaned      4.620229   \n",
       "3  6 thick slices bread,2  eggs,⅔ cup milk,¼ teas...      4.562596   \n",
       "4  1 (5 ounce) package instant vanilla pudding mi...      4.719960   \n",
       "5  1 (8 ounce) box elbow macaroni,¼ cup butter,¼ ...      4.414982   \n",
       "\n",
       "  number_of_reviews calories  protein [g]  carbohydrates [g]  fat [g]  \\\n",
       "1            3953.0    423.0         30.9                1.2     32.1   \n",
       "2             524.0    123.0          4.6               27.2      1.7   \n",
       "3            1957.0    240.0         10.6               33.6      6.4   \n",
       "4            1007.0    329.0          4.2               56.9      9.6   \n",
       "5             841.0    630.0         26.5               55.0     33.6   \n",
       "\n",
       "   cholesterol [mg]  sodium [mg]  calories_per_serving  \n",
       "1              97.0        661.9                  71.0  \n",
       "2               NaN         21.5                 123.0  \n",
       "3             128.3        477.7                  80.0  \n",
       "4               8.6        205.2                  17.0  \n",
       "5              99.6        777.0                 158.0  \n",
       "\n",
       "[5 rows x 23 columns]"
      ]
     },
     "execution_count": 20,
     "metadata": {},
     "output_type": "execute_result"
    }
   ],
   "source": [
    "allrecipes_df.head()"
   ]
  },
  {
   "cell_type": "markdown",
   "metadata": {},
   "source": [
    "Looks great but there is just one more thing that we have to deal with before wee can move on. As you can see the data regarding time is still being held as a string and does not allow any reliable quantitative analysis. We sould convert information in the 'prep', 'cook', 'additional' and 'total' columns to unified measure of time - minutes. To achieve that with the lowest amount of effort we should first of all define an appropriate function - convert_to_mins(). However, beforee we can do it we need to learn more about time-related columns in our dataset. In order to apply some logic to our function we should check what are the possible configurations of time measurement units that occur independantly or together in a dataset (check whether there are cells where time is measured in hours, hours and minutes, etc.). To do it we will produce a set from all values from time-relatedd columns with digits stripped from the string. We will create a new dataframe - df_time, and perform all the necessary operations on it."
   ]
  },
  {
   "cell_type": "code",
   "execution_count": 21,
   "metadata": {},
   "outputs": [
    {
     "data": {
      "text/plain": [
       "{' day', ' days', ' hr', ' hr  mins', ' hrs', ' hrs  mins', ' min', ' mins'}"
      ]
     },
     "execution_count": 21,
     "metadata": {},
     "output_type": "execute_result"
    }
   ],
   "source": [
    "df_time = allrecipes_df.loc[:, 'prep':'total']\n",
    "\n",
    "list_of_measures = list(df_time.loc[:, 'prep':'total'].values.T.ravel())\n",
    "\n",
    "list_of_measures = [x for x in list_of_measures if type(x) == str]\n",
    "\n",
    "list_of_measures = [''.join(x for x in i if not x.isdigit()) for i in list_of_measures]\n",
    "\n",
    "set(list_of_measures)"
   ]
  },
  {
   "cell_type": "markdown",
   "metadata": {},
   "source": [
    "So the possibilities are - 'day', 'days', 'hr', 'hr mins', ' hrs', 'hrs mins', 'min', 'mins'. Now we need to apply appropriate logic to our convert_to_mins() function. We will split the string containing time informaiton into list of values. Later on we will extract and convert the time into minutes depending on the configuration of time units."
   ]
  },
  {
   "cell_type": "code",
   "execution_count": 22,
   "metadata": {},
   "outputs": [],
   "source": [
    "def convert_to_mins(x):\n",
    "    x = x.split()\n",
    "    if len(x) == 4:\n",
    "        x = [int(d) for d in x if d.isdigit()]\n",
    "        return (x[0] * 60 + x[1])\n",
    "    elif (len(x) == 2) and ('hr' in x or 'hrs' in x):\n",
    "        return int(x[0]) * 60\n",
    "    elif (len(x) == 2) and ('day' in x or 'days' in x):\n",
    "        return int(x[0]) * 3600\n",
    "    else:\n",
    "        return int(x[0])"
   ]
  },
  {
   "cell_type": "markdown",
   "metadata": {},
   "source": [
    "In the function we convert all hours and days to minutes and convert all values to integers. If the only time unit used in the cell is minutes we just strip the non-digits and convert string to an integer without changing it's value. We can now apply our function to the df_time columns. However, since the split() method cannot be applied to np.nan values (and we have those in our dataset) we will have to mat the function to string values only."
   ]
  },
  {
   "cell_type": "code",
   "execution_count": 23,
   "metadata": {},
   "outputs": [],
   "source": [
    "df_time.prep = df_time.prep.map(lambda x: convert_to_mins(x) if type(x) == str else x)\n",
    "df_time.cook = df_time.cook.map(lambda x: convert_to_mins(x) if type(x) == str else x)    \n",
    "df_time.additional = df_time.additional.map(lambda x: convert_to_mins(x) if type(x) == str else x)\n",
    "df_time.total = df_time.total.map(lambda x: convert_to_mins(x) if type(x) == str else x)"
   ]
  },
  {
   "cell_type": "markdown",
   "metadata": {},
   "source": [
    "It would be nice to check whether there are no mistakes in our calculations. We will create a new Series 'check' where we sum all values from the 'prep', 'cook' and 'additional' columns of df_time to compare with the 'total' column. However, we cannot use pandas equals() method straight away. Comparison of the NaN values equals to False and therefore before we need to fill all cells containing NaN's with 0 first."
   ]
  },
  {
   "cell_type": "code",
   "execution_count": 24,
   "metadata": {},
   "outputs": [
    {
     "data": {
      "text/plain": [
       "False"
      ]
     },
     "execution_count": 24,
     "metadata": {},
     "output_type": "execute_result"
    }
   ],
   "source": [
    "df_time.fillna(0, inplace = True)\n",
    "\n",
    "calc_verification = df_time.loc[:, 'prep':'additional'].sum(axis = 1, skipna = True)\n",
    "\n",
    "df_time['total'].equals(calc_verification)"
   ]
  },
  {
   "cell_type": "markdown",
   "metadata": {},
   "source": [
    "So the Series are not equal. We must have made a mistake somewhere. In order to determine which rows of df_time['total'] and calc_verification do not match, we will create a numpy array - diff, where depending on whether value in the row is the same or not we will fill it with 1 and 0 respectively. Next, we will extract only records where the values don't match by indexing df_time with the diff array."
   ]
  },
  {
   "cell_type": "code",
   "execution_count": 25,
   "metadata": {},
   "outputs": [
    {
     "data": {
      "text/html": [
       "<div>\n",
       "<style scoped>\n",
       "    .dataframe tbody tr th:only-of-type {\n",
       "        vertical-align: middle;\n",
       "    }\n",
       "\n",
       "    .dataframe tbody tr th {\n",
       "        vertical-align: top;\n",
       "    }\n",
       "\n",
       "    .dataframe thead th {\n",
       "        text-align: right;\n",
       "    }\n",
       "</style>\n",
       "<table border=\"1\" class=\"dataframe\">\n",
       "  <thead>\n",
       "    <tr style=\"text-align: right;\">\n",
       "      <th></th>\n",
       "      <th>prep</th>\n",
       "      <th>cook</th>\n",
       "      <th>additional</th>\n",
       "      <th>total</th>\n",
       "    </tr>\n",
       "  </thead>\n",
       "  <tbody>\n",
       "    <tr>\n",
       "      <th>159</th>\n",
       "      <td>20.0</td>\n",
       "      <td>10.0</td>\n",
       "      <td>3600.0</td>\n",
       "      <td>3600.0</td>\n",
       "    </tr>\n",
       "    <tr>\n",
       "      <th>288</th>\n",
       "      <td>20.0</td>\n",
       "      <td>10.0</td>\n",
       "      <td>3600.0</td>\n",
       "      <td>3600.0</td>\n",
       "    </tr>\n",
       "    <tr>\n",
       "      <th>818</th>\n",
       "      <td>10.0</td>\n",
       "      <td>15.0</td>\n",
       "      <td>10800.0</td>\n",
       "      <td>10800.0</td>\n",
       "    </tr>\n",
       "    <tr>\n",
       "      <th>844</th>\n",
       "      <td>5.0</td>\n",
       "      <td>0.0</td>\n",
       "      <td>7200.0</td>\n",
       "      <td>7200.0</td>\n",
       "    </tr>\n",
       "  </tbody>\n",
       "</table>\n",
       "</div>"
      ],
      "text/plain": [
       "     prep  cook  additional    total\n",
       "159  20.0  10.0      3600.0   3600.0\n",
       "288  20.0  10.0      3600.0   3600.0\n",
       "818  10.0  15.0     10800.0  10800.0\n",
       "844   5.0   0.0      7200.0   7200.0"
      ]
     },
     "execution_count": 25,
     "metadata": {},
     "output_type": "execute_result"
    }
   ],
   "source": [
    "diff = np.where( df_time['total'] == calc_verification , 1, 0)\n",
    "\n",
    "df_time[diff == 0]"
   ]
  },
  {
   "cell_type": "markdown",
   "metadata": {},
   "source": [
    "So the problematic records are in rows 159, 288, 818 and 844. It seems that whenever days were used as a measurement of time, the 'prep' and 'cook' weree not added in the 'total' column's value. It seems that we haven't made a mistake after all but there were some inconsistancies (or rather simplifications) in the original data. We could leave it as it is bus since there are only 4 records that are not matching, we can amend those values manually."
   ]
  },
  {
   "cell_type": "code",
   "execution_count": 26,
   "metadata": {},
   "outputs": [],
   "source": [
    "df_time.at[159, 'total'] = 3630.00\n",
    "df_time.at[288, 'total'] = 3630.00\n",
    "df_time.at[818, 'total'] = 10825.00\n",
    "df_time.at[844, 'total'] = 7205.00"
   ]
  },
  {
   "cell_type": "markdown",
   "metadata": {},
   "source": [
    "Let's once again check whether all the values are the same."
   ]
  },
  {
   "cell_type": "code",
   "execution_count": 27,
   "metadata": {},
   "outputs": [
    {
     "data": {
      "text/plain": [
       "True"
      ]
     },
     "execution_count": 27,
     "metadata": {},
     "output_type": "execute_result"
    }
   ],
   "source": [
    "df_time['total'].equals(calc_verification)"
   ]
  },
  {
   "cell_type": "markdown",
   "metadata": {},
   "source": [
    "Great! Looks like it worked all right. Now we should substitute the columns in the original dataframe - allrecipes_df with whe columns from df_time. But first let's convert all 0 back to np.nan so that there are no inaccuracies in the future."
   ]
  },
  {
   "cell_type": "code",
   "execution_count": 28,
   "metadata": {},
   "outputs": [],
   "source": [
    "df_time.replace(0, np.nan, inplace=True)\n",
    "\n",
    "allrecipes_df.loc[:, 'prep':'total'] = df_time"
   ]
  },
  {
   "cell_type": "markdown",
   "metadata": {},
   "source": [
    "We can see how our data looks like now."
   ]
  },
  {
   "cell_type": "code",
   "execution_count": 29,
   "metadata": {},
   "outputs": [
    {
     "data": {
      "text/html": [
       "<div>\n",
       "<style scoped>\n",
       "    .dataframe tbody tr th:only-of-type {\n",
       "        vertical-align: middle;\n",
       "    }\n",
       "\n",
       "    .dataframe tbody tr th {\n",
       "        vertical-align: top;\n",
       "    }\n",
       "\n",
       "    .dataframe thead th {\n",
       "        text-align: right;\n",
       "    }\n",
       "</style>\n",
       "<table border=\"1\" class=\"dataframe\">\n",
       "  <thead>\n",
       "    <tr style=\"text-align: right;\">\n",
       "      <th></th>\n",
       "      <th>name</th>\n",
       "      <th>prep</th>\n",
       "      <th>cook</th>\n",
       "      <th>additional</th>\n",
       "      <th>total</th>\n",
       "      <th>servings</th>\n",
       "      <th>yield</th>\n",
       "      <th>5 stars</th>\n",
       "      <th>4 stars</th>\n",
       "      <th>3 stars</th>\n",
       "      <th>...</th>\n",
       "      <th>ingrediences</th>\n",
       "      <th>recipe_score</th>\n",
       "      <th>number_of_reviews</th>\n",
       "      <th>calories</th>\n",
       "      <th>protein [g]</th>\n",
       "      <th>carbohydrates [g]</th>\n",
       "      <th>fat [g]</th>\n",
       "      <th>cholesterol [mg]</th>\n",
       "      <th>sodium [mg]</th>\n",
       "      <th>calories_per_serving</th>\n",
       "    </tr>\n",
       "  </thead>\n",
       "  <tbody>\n",
       "    <tr>\n",
       "      <th>1</th>\n",
       "      <td>Juicy Roasted Chicken</td>\n",
       "      <td>10.0</td>\n",
       "      <td>75.0</td>\n",
       "      <td>15.0</td>\n",
       "      <td>100.0</td>\n",
       "      <td>6</td>\n",
       "      <td>6 servings</td>\n",
       "      <td>3179.0</td>\n",
       "      <td>538.0</td>\n",
       "      <td>147.0</td>\n",
       "      <td>...</td>\n",
       "      <td>1 (3 pound) whole chicken, giblets removed,sal...</td>\n",
       "      <td>4.711358</td>\n",
       "      <td>3953.0</td>\n",
       "      <td>423.0</td>\n",
       "      <td>30.9</td>\n",
       "      <td>1.2</td>\n",
       "      <td>32.1</td>\n",
       "      <td>97.0</td>\n",
       "      <td>661.9</td>\n",
       "      <td>71.0</td>\n",
       "    </tr>\n",
       "    <tr>\n",
       "      <th>2</th>\n",
       "      <td>Microwave Corn on the Cob</td>\n",
       "      <td>NaN</td>\n",
       "      <td>5.0</td>\n",
       "      <td>NaN</td>\n",
       "      <td>5.0</td>\n",
       "      <td>1</td>\n",
       "      <td>1 serving</td>\n",
       "      <td>382.0</td>\n",
       "      <td>102.0</td>\n",
       "      <td>29.0</td>\n",
       "      <td>...</td>\n",
       "      <td>1 ear corn, husked and cleaned</td>\n",
       "      <td>4.620229</td>\n",
       "      <td>524.0</td>\n",
       "      <td>123.0</td>\n",
       "      <td>4.6</td>\n",
       "      <td>27.2</td>\n",
       "      <td>1.7</td>\n",
       "      <td>NaN</td>\n",
       "      <td>21.5</td>\n",
       "      <td>123.0</td>\n",
       "    </tr>\n",
       "    <tr>\n",
       "      <th>3</th>\n",
       "      <td>French Toast I</td>\n",
       "      <td>5.0</td>\n",
       "      <td>15.0</td>\n",
       "      <td>NaN</td>\n",
       "      <td>20.0</td>\n",
       "      <td>3</td>\n",
       "      <td>6 slices french toast</td>\n",
       "      <td>1337.0</td>\n",
       "      <td>473.0</td>\n",
       "      <td>87.0</td>\n",
       "      <td>...</td>\n",
       "      <td>6 thick slices bread,2  eggs,⅔ cup milk,¼ teas...</td>\n",
       "      <td>4.562596</td>\n",
       "      <td>1957.0</td>\n",
       "      <td>240.0</td>\n",
       "      <td>10.6</td>\n",
       "      <td>33.6</td>\n",
       "      <td>6.4</td>\n",
       "      <td>128.3</td>\n",
       "      <td>477.7</td>\n",
       "      <td>80.0</td>\n",
       "    </tr>\n",
       "    <tr>\n",
       "      <th>4</th>\n",
       "      <td>The Best Banana Pudding</td>\n",
       "      <td>25.0</td>\n",
       "      <td>NaN</td>\n",
       "      <td>NaN</td>\n",
       "      <td>25.0</td>\n",
       "      <td>20</td>\n",
       "      <td>20 servings</td>\n",
       "      <td>830.0</td>\n",
       "      <td>117.0</td>\n",
       "      <td>30.0</td>\n",
       "      <td>...</td>\n",
       "      <td>1 (5 ounce) package instant vanilla pudding mi...</td>\n",
       "      <td>4.719960</td>\n",
       "      <td>1007.0</td>\n",
       "      <td>329.0</td>\n",
       "      <td>4.2</td>\n",
       "      <td>56.9</td>\n",
       "      <td>9.6</td>\n",
       "      <td>8.6</td>\n",
       "      <td>205.2</td>\n",
       "      <td>17.0</td>\n",
       "    </tr>\n",
       "    <tr>\n",
       "      <th>5</th>\n",
       "      <td>Simple Macaroni and Cheese</td>\n",
       "      <td>10.0</td>\n",
       "      <td>20.0</td>\n",
       "      <td>NaN</td>\n",
       "      <td>30.0</td>\n",
       "      <td>4</td>\n",
       "      <td>4 servings</td>\n",
       "      <td>545.0</td>\n",
       "      <td>188.0</td>\n",
       "      <td>51.0</td>\n",
       "      <td>...</td>\n",
       "      <td>1 (8 ounce) box elbow macaroni,¼ cup butter,¼ ...</td>\n",
       "      <td>4.414982</td>\n",
       "      <td>841.0</td>\n",
       "      <td>630.0</td>\n",
       "      <td>26.5</td>\n",
       "      <td>55.0</td>\n",
       "      <td>33.6</td>\n",
       "      <td>99.6</td>\n",
       "      <td>777.0</td>\n",
       "      <td>158.0</td>\n",
       "    </tr>\n",
       "  </tbody>\n",
       "</table>\n",
       "<p>5 rows × 23 columns</p>\n",
       "</div>"
      ],
      "text/plain": [
       "                         name  prep  cook  additional  total  servings  \\\n",
       "1       Juicy Roasted Chicken  10.0  75.0        15.0  100.0         6   \n",
       "2   Microwave Corn on the Cob   NaN   5.0         NaN    5.0         1   \n",
       "3              French Toast I   5.0  15.0         NaN   20.0         3   \n",
       "4     The Best Banana Pudding  25.0   NaN         NaN   25.0        20   \n",
       "5  Simple Macaroni and Cheese  10.0  20.0         NaN   30.0         4   \n",
       "\n",
       "                   yield  5 stars  4 stars  3 stars  ...  \\\n",
       "1             6 servings   3179.0    538.0    147.0  ...   \n",
       "2              1 serving    382.0    102.0     29.0  ...   \n",
       "3  6 slices french toast   1337.0    473.0     87.0  ...   \n",
       "4            20 servings    830.0    117.0     30.0  ...   \n",
       "5             4 servings    545.0    188.0     51.0  ...   \n",
       "\n",
       "                                        ingrediences  recipe_score  \\\n",
       "1  1 (3 pound) whole chicken, giblets removed,sal...      4.711358   \n",
       "2                     1 ear corn, husked and cleaned      4.620229   \n",
       "3  6 thick slices bread,2  eggs,⅔ cup milk,¼ teas...      4.562596   \n",
       "4  1 (5 ounce) package instant vanilla pudding mi...      4.719960   \n",
       "5  1 (8 ounce) box elbow macaroni,¼ cup butter,¼ ...      4.414982   \n",
       "\n",
       "  number_of_reviews calories  protein [g]  carbohydrates [g]  fat [g]  \\\n",
       "1            3953.0    423.0         30.9                1.2     32.1   \n",
       "2             524.0    123.0          4.6               27.2      1.7   \n",
       "3            1957.0    240.0         10.6               33.6      6.4   \n",
       "4            1007.0    329.0          4.2               56.9      9.6   \n",
       "5             841.0    630.0         26.5               55.0     33.6   \n",
       "\n",
       "   cholesterol [mg]  sodium [mg]  calories_per_serving  \n",
       "1              97.0        661.9                  71.0  \n",
       "2               NaN         21.5                 123.0  \n",
       "3             128.3        477.7                  80.0  \n",
       "4               8.6        205.2                  17.0  \n",
       "5              99.6        777.0                 158.0  \n",
       "\n",
       "[5 rows x 23 columns]"
      ]
     },
     "execution_count": 29,
     "metadata": {},
     "output_type": "execute_result"
    }
   ],
   "source": [
    "allrecipes_df.head()"
   ]
  },
  {
   "cell_type": "markdown",
   "metadata": {},
   "source": [
    "By now we have worked a bit with the data and got to know it better. There is no doubt that we could get some insights based on this data only. However, in order to ilustrate how it could be enriched eveen further I decided to compile a list of herbs from an external source - Encyclopedia Britannica. In the following steps we will create a number of columns (one per herb) that indicate whether particular herb exists in a recipe. Those steps could be used with virtually all categories of ingrediences but in this case I've decided to limit analysis to herbs only. Let's beegin with importing the list of herbs from an external file and first. We can make some basic formatting on the wat as well."
   ]
  },
  {
   "cell_type": "code",
   "execution_count": 30,
   "metadata": {},
   "outputs": [],
   "source": [
    "with open('herbs_britannica.txt', 'r') as file:\n",
    "    file_content = file.read()\n",
    "    herbs = file_content.split('\\n')\n",
    "    herbs = [item.lower().strip() for item in herbs]\n",
    "    herbs = list(set(herbs))\n",
    "    herbs.remove('')"
   ]
  },
  {
   "cell_type": "markdown",
   "metadata": {},
   "source": [
    "We have some well-formatted herbs list now. We can create a function that checks whether herb is listed in the ingrediences column in our Dataframe. Depending on whether it exist, the function will assign value 1 (representing existance of a herb) or 0 (if it doesn't exist) in the newly created herb column."
   ]
  },
  {
   "cell_type": "code",
   "execution_count": 31,
   "metadata": {},
   "outputs": [],
   "source": [
    "def create_ingredient_column(ingredient_name):\n",
    "    ingredient = str(ingredient_name)\n",
    "    allrecipes_df[ingredient] = np.where(allrecipes_df['ingrediences'].str.find(ingredient) != -1, 1, 0)"
   ]
  },
  {
   "cell_type": "markdown",
   "metadata": {},
   "source": [
    "Now we can iterate over the herbs list and apply all the herbs to the function as variable ingredient_name."
   ]
  },
  {
   "cell_type": "code",
   "execution_count": 35,
   "metadata": {},
   "outputs": [],
   "source": [
    "for herb in herbs:\n",
    "    create_ingredient_column(herb)"
   ]
  },
  {
   "cell_type": "markdown",
   "metadata": {},
   "source": [
    "Now we will check which columns are of any value to us. We can check the number of columns with values equals only to 0, only to 1 and those where 0s and 1s exist."
   ]
  },
  {
   "cell_type": "code",
   "execution_count": 36,
   "metadata": {},
   "outputs": [
    {
     "name": "stdout",
     "output_type": "stream",
     "text": [
      "{'[0]': 39, '[0 1]': 45, '[1 0]': 1}\n"
     ]
    }
   ],
   "source": [
    "count_of_herbs_columns = {}\n",
    "\n",
    "for column in allrecipes_df.columns:\n",
    "    if column in herbs:\n",
    "        value_counts = np.array2string(allrecipes_df[column].value_counts().index.values)\n",
    "        if value_counts not in count_of_herbs_columns.keys():\n",
    "            count_of_herbs_columns[value_counts] = 1\n",
    "        else:\n",
    "            count_of_herbs_columns[value_counts] += 1\n",
    "\n",
    "print (count_of_herbs_columns)"
   ]
  },
  {
   "cell_type": "markdown",
   "metadata": {},
   "source": [
    "There are 39 herbs which doesn't exist in any recipe. We do not have any herb that exists in all recipes. It seems like there are 46 herb-related columns that are of value to us. We can now drop columns where all values are 0s."
   ]
  },
  {
   "cell_type": "code",
   "execution_count": 39,
   "metadata": {},
   "outputs": [],
   "source": [
    "nunique = allrecipes_df.nunique()\n",
    "columns_to_drop = nunique[nunique == 1].index\n",
    "allrecipes_df = allrecipes_df.drop(columns_to_drop, axis=1)"
   ]
  },
  {
   "cell_type": "markdown",
   "metadata": {},
   "source": [
    "We can check how many times have remaining herbs occured in our recipes."
   ]
  },
  {
   "cell_type": "code",
   "execution_count": 42,
   "metadata": {},
   "outputs": [
    {
     "name": "stdout",
     "output_type": "stream",
     "text": [
      "{'coriander': 3, 'mint': 3, 'dill': 19, 'parsley': 68, 'black pepper': 325, 'sage': 26, 'cayenne pepper': 69, 'celery': 61, 'wasabi': 1, 'plantain': 1, 'sesame': 28, 'lemon grass': 1, 'oregano': 68, 'marjoram': 5, 'tarragon': 5, 'curry': 7, 'savory': 1, 'fennel': 2, 'ginger': 37, 'nutmeg': 16, 'celery seed': 6, 'mustard': 62, 'garlic': 346, 'vanilla': 124, 'mace': 1, 'rosemary': 23, 'pepper': 509, 'bay leaf': 7, 'chives': 5, 'brown mustard': 2, 'anise': 3, 'dandelion': 1, 'poppy seed': 5, 'thyme': 41, 'allspice': 3, 'horseradish': 2, 'clove': 182, 'paprika': 73, 'turmeric': 2, 'star anise': 1, 'cumin': 45, 'basil': 54, 'cilantro': 36, 'chili pepper': 1, 'cinnamon': 66, 'cardamom': 3}\n"
     ]
    }
   ],
   "source": [
    "ingr_sum_dict = {}\n",
    "\n",
    "for column in allrecipes_df.columns:\n",
    "    if column in herbs:\n",
    "        ingr_sum_dict[column] = allrecipes_df[column].sum()\n",
    "\n",
    "print(ingr_sum_dict)"
   ]
  },
  {
   "cell_type": "markdown",
   "metadata": {},
   "source": [
    "There are some herbs that were used only in a limited number of recipes. Let's see which herbs were used in at least 20 recipes."
   ]
  },
  {
   "cell_type": "code",
   "execution_count": 45,
   "metadata": {},
   "outputs": [
    {
     "name": "stdout",
     "output_type": "stream",
     "text": [
      "{'parsley': 68, 'black pepper': 325, 'sage': 26, 'cayenne pepper': 69, 'celery': 61, 'sesame': 28, 'oregano': 68, 'ginger': 37, 'mustard': 62, 'garlic': 346, 'vanilla': 124, 'rosemary': 23, 'pepper': 509, 'thyme': 41, 'clove': 182, 'paprika': 73, 'cumin': 45, 'basil': 54, 'cilantro': 36, 'cinnamon': 66}\n"
     ]
    }
   ],
   "source": [
    "filtered_ingr_sum_dict =  {key: value for (key, value) in ingr_sum_dict.items() if value >= 20}\n",
    "print(filtered_ingr_sum_dict)"
   ]
  },
  {
   "cell_type": "markdown",
   "metadata": {},
   "source": [
    "Since we would like to perform some worthwile analysis in the future we sould get rid of the columns containing information on the herbs that were used rarely. As above, we will set the treshold at 20 use times."
   ]
  },
  {
   "cell_type": "code",
   "execution_count": 46,
   "metadata": {},
   "outputs": [],
   "source": [
    "for column in allrecipes_df.columns:    \n",
    "    if (column in herbs) and (column not in list(filtered_ingr_sum_dict.keys())):\n",
    "        allrecipes_df.drop(labels = column, axis = 1, inplace = True)"
   ]
  },
  {
   "cell_type": "markdown",
   "metadata": {},
   "source": [
    "We can now see the final result of our data transformation. Let's print the first and last 5 rows of the dataframe."
   ]
  },
  {
   "cell_type": "code",
   "execution_count": 48,
   "metadata": {},
   "outputs": [
    {
     "data": {
      "text/html": [
       "<div>\n",
       "<style scoped>\n",
       "    .dataframe tbody tr th:only-of-type {\n",
       "        vertical-align: middle;\n",
       "    }\n",
       "\n",
       "    .dataframe tbody tr th {\n",
       "        vertical-align: top;\n",
       "    }\n",
       "\n",
       "    .dataframe thead th {\n",
       "        text-align: right;\n",
       "    }\n",
       "</style>\n",
       "<table border=\"1\" class=\"dataframe\">\n",
       "  <thead>\n",
       "    <tr style=\"text-align: right;\">\n",
       "      <th></th>\n",
       "      <th>name</th>\n",
       "      <th>prep</th>\n",
       "      <th>cook</th>\n",
       "      <th>additional</th>\n",
       "      <th>total</th>\n",
       "      <th>servings</th>\n",
       "      <th>yield</th>\n",
       "      <th>5 stars</th>\n",
       "      <th>4 stars</th>\n",
       "      <th>3 stars</th>\n",
       "      <th>...</th>\n",
       "      <th>vanilla</th>\n",
       "      <th>rosemary</th>\n",
       "      <th>pepper</th>\n",
       "      <th>thyme</th>\n",
       "      <th>clove</th>\n",
       "      <th>paprika</th>\n",
       "      <th>cumin</th>\n",
       "      <th>basil</th>\n",
       "      <th>cilantro</th>\n",
       "      <th>cinnamon</th>\n",
       "    </tr>\n",
       "  </thead>\n",
       "  <tbody>\n",
       "    <tr>\n",
       "      <th>1</th>\n",
       "      <td>Juicy Roasted Chicken</td>\n",
       "      <td>10.0</td>\n",
       "      <td>75.0</td>\n",
       "      <td>15.0</td>\n",
       "      <td>100.0</td>\n",
       "      <td>6</td>\n",
       "      <td>6 servings</td>\n",
       "      <td>3179.0</td>\n",
       "      <td>538.0</td>\n",
       "      <td>147.0</td>\n",
       "      <td>...</td>\n",
       "      <td>0</td>\n",
       "      <td>0</td>\n",
       "      <td>1</td>\n",
       "      <td>0</td>\n",
       "      <td>0</td>\n",
       "      <td>0</td>\n",
       "      <td>0</td>\n",
       "      <td>0</td>\n",
       "      <td>0</td>\n",
       "      <td>0</td>\n",
       "    </tr>\n",
       "    <tr>\n",
       "      <th>2</th>\n",
       "      <td>Microwave Corn on the Cob</td>\n",
       "      <td>NaN</td>\n",
       "      <td>5.0</td>\n",
       "      <td>NaN</td>\n",
       "      <td>5.0</td>\n",
       "      <td>1</td>\n",
       "      <td>1 serving</td>\n",
       "      <td>382.0</td>\n",
       "      <td>102.0</td>\n",
       "      <td>29.0</td>\n",
       "      <td>...</td>\n",
       "      <td>0</td>\n",
       "      <td>0</td>\n",
       "      <td>0</td>\n",
       "      <td>0</td>\n",
       "      <td>0</td>\n",
       "      <td>0</td>\n",
       "      <td>0</td>\n",
       "      <td>0</td>\n",
       "      <td>0</td>\n",
       "      <td>0</td>\n",
       "    </tr>\n",
       "    <tr>\n",
       "      <th>3</th>\n",
       "      <td>French Toast I</td>\n",
       "      <td>5.0</td>\n",
       "      <td>15.0</td>\n",
       "      <td>NaN</td>\n",
       "      <td>20.0</td>\n",
       "      <td>3</td>\n",
       "      <td>6 slices french toast</td>\n",
       "      <td>1337.0</td>\n",
       "      <td>473.0</td>\n",
       "      <td>87.0</td>\n",
       "      <td>...</td>\n",
       "      <td>1</td>\n",
       "      <td>0</td>\n",
       "      <td>0</td>\n",
       "      <td>0</td>\n",
       "      <td>0</td>\n",
       "      <td>0</td>\n",
       "      <td>0</td>\n",
       "      <td>0</td>\n",
       "      <td>0</td>\n",
       "      <td>1</td>\n",
       "    </tr>\n",
       "    <tr>\n",
       "      <th>4</th>\n",
       "      <td>The Best Banana Pudding</td>\n",
       "      <td>25.0</td>\n",
       "      <td>NaN</td>\n",
       "      <td>NaN</td>\n",
       "      <td>25.0</td>\n",
       "      <td>20</td>\n",
       "      <td>20 servings</td>\n",
       "      <td>830.0</td>\n",
       "      <td>117.0</td>\n",
       "      <td>30.0</td>\n",
       "      <td>...</td>\n",
       "      <td>1</td>\n",
       "      <td>0</td>\n",
       "      <td>0</td>\n",
       "      <td>0</td>\n",
       "      <td>0</td>\n",
       "      <td>0</td>\n",
       "      <td>0</td>\n",
       "      <td>0</td>\n",
       "      <td>0</td>\n",
       "      <td>0</td>\n",
       "    </tr>\n",
       "    <tr>\n",
       "      <th>5</th>\n",
       "      <td>Simple Macaroni and Cheese</td>\n",
       "      <td>10.0</td>\n",
       "      <td>20.0</td>\n",
       "      <td>NaN</td>\n",
       "      <td>30.0</td>\n",
       "      <td>4</td>\n",
       "      <td>4 servings</td>\n",
       "      <td>545.0</td>\n",
       "      <td>188.0</td>\n",
       "      <td>51.0</td>\n",
       "      <td>...</td>\n",
       "      <td>0</td>\n",
       "      <td>0</td>\n",
       "      <td>1</td>\n",
       "      <td>0</td>\n",
       "      <td>0</td>\n",
       "      <td>0</td>\n",
       "      <td>0</td>\n",
       "      <td>0</td>\n",
       "      <td>0</td>\n",
       "      <td>0</td>\n",
       "    </tr>\n",
       "  </tbody>\n",
       "</table>\n",
       "<p>5 rows × 43 columns</p>\n",
       "</div>"
      ],
      "text/plain": [
       "                         name  prep  cook  additional  total  servings  \\\n",
       "1       Juicy Roasted Chicken  10.0  75.0        15.0  100.0         6   \n",
       "2   Microwave Corn on the Cob   NaN   5.0         NaN    5.0         1   \n",
       "3              French Toast I   5.0  15.0         NaN   20.0         3   \n",
       "4     The Best Banana Pudding  25.0   NaN         NaN   25.0        20   \n",
       "5  Simple Macaroni and Cheese  10.0  20.0         NaN   30.0         4   \n",
       "\n",
       "                   yield  5 stars  4 stars  3 stars  ...  vanilla  rosemary  \\\n",
       "1             6 servings   3179.0    538.0    147.0  ...        0         0   \n",
       "2              1 serving    382.0    102.0     29.0  ...        0         0   \n",
       "3  6 slices french toast   1337.0    473.0     87.0  ...        1         0   \n",
       "4            20 servings    830.0    117.0     30.0  ...        1         0   \n",
       "5             4 servings    545.0    188.0     51.0  ...        0         0   \n",
       "\n",
       "  pepper thyme  clove  paprika  cumin  basil  cilantro  cinnamon  \n",
       "1      1     0      0        0      0      0         0         0  \n",
       "2      0     0      0        0      0      0         0         0  \n",
       "3      0     0      0        0      0      0         0         1  \n",
       "4      0     0      0        0      0      0         0         0  \n",
       "5      1     0      0        0      0      0         0         0  \n",
       "\n",
       "[5 rows x 43 columns]"
      ]
     },
     "execution_count": 48,
     "metadata": {},
     "output_type": "execute_result"
    }
   ],
   "source": [
    "allrecipes_df.head()"
   ]
  },
  {
   "cell_type": "code",
   "execution_count": 49,
   "metadata": {},
   "outputs": [
    {
     "data": {
      "text/html": [
       "<div>\n",
       "<style scoped>\n",
       "    .dataframe tbody tr th:only-of-type {\n",
       "        vertical-align: middle;\n",
       "    }\n",
       "\n",
       "    .dataframe tbody tr th {\n",
       "        vertical-align: top;\n",
       "    }\n",
       "\n",
       "    .dataframe thead th {\n",
       "        text-align: right;\n",
       "    }\n",
       "</style>\n",
       "<table border=\"1\" class=\"dataframe\">\n",
       "  <thead>\n",
       "    <tr style=\"text-align: right;\">\n",
       "      <th></th>\n",
       "      <th>name</th>\n",
       "      <th>prep</th>\n",
       "      <th>cook</th>\n",
       "      <th>additional</th>\n",
       "      <th>total</th>\n",
       "      <th>servings</th>\n",
       "      <th>yield</th>\n",
       "      <th>5 stars</th>\n",
       "      <th>4 stars</th>\n",
       "      <th>3 stars</th>\n",
       "      <th>...</th>\n",
       "      <th>vanilla</th>\n",
       "      <th>rosemary</th>\n",
       "      <th>pepper</th>\n",
       "      <th>thyme</th>\n",
       "      <th>clove</th>\n",
       "      <th>paprika</th>\n",
       "      <th>cumin</th>\n",
       "      <th>basil</th>\n",
       "      <th>cilantro</th>\n",
       "      <th>cinnamon</th>\n",
       "    </tr>\n",
       "  </thead>\n",
       "  <tbody>\n",
       "    <tr>\n",
       "      <th>996</th>\n",
       "      <td>Biscotti</td>\n",
       "      <td>15.0</td>\n",
       "      <td>25.0</td>\n",
       "      <td>NaN</td>\n",
       "      <td>40.0</td>\n",
       "      <td>42</td>\n",
       "      <td>3 to 4 dozen</td>\n",
       "      <td>866.0</td>\n",
       "      <td>163.0</td>\n",
       "      <td>40.0</td>\n",
       "      <td>...</td>\n",
       "      <td>0</td>\n",
       "      <td>0</td>\n",
       "      <td>0</td>\n",
       "      <td>0</td>\n",
       "      <td>0</td>\n",
       "      <td>0</td>\n",
       "      <td>0</td>\n",
       "      <td>0</td>\n",
       "      <td>0</td>\n",
       "      <td>0</td>\n",
       "    </tr>\n",
       "    <tr>\n",
       "      <th>997</th>\n",
       "      <td>Potato Salad</td>\n",
       "      <td>20.0</td>\n",
       "      <td>10.0</td>\n",
       "      <td>360.0</td>\n",
       "      <td>390.0</td>\n",
       "      <td>20</td>\n",
       "      <td>20 servings</td>\n",
       "      <td>168.0</td>\n",
       "      <td>56.0</td>\n",
       "      <td>8.0</td>\n",
       "      <td>...</td>\n",
       "      <td>0</td>\n",
       "      <td>0</td>\n",
       "      <td>1</td>\n",
       "      <td>0</td>\n",
       "      <td>0</td>\n",
       "      <td>0</td>\n",
       "      <td>0</td>\n",
       "      <td>0</td>\n",
       "      <td>0</td>\n",
       "      <td>0</td>\n",
       "    </tr>\n",
       "    <tr>\n",
       "      <th>998</th>\n",
       "      <td>Top Ramen® Salad</td>\n",
       "      <td>15.0</td>\n",
       "      <td>10.0</td>\n",
       "      <td>30.0</td>\n",
       "      <td>55.0</td>\n",
       "      <td>6</td>\n",
       "      <td>6 servings</td>\n",
       "      <td>23.0</td>\n",
       "      <td>13.0</td>\n",
       "      <td>3.0</td>\n",
       "      <td>...</td>\n",
       "      <td>0</td>\n",
       "      <td>0</td>\n",
       "      <td>0</td>\n",
       "      <td>0</td>\n",
       "      <td>0</td>\n",
       "      <td>0</td>\n",
       "      <td>0</td>\n",
       "      <td>0</td>\n",
       "      <td>0</td>\n",
       "      <td>0</td>\n",
       "    </tr>\n",
       "    <tr>\n",
       "      <th>999</th>\n",
       "      <td>Meatball Nirvana</td>\n",
       "      <td>20.0</td>\n",
       "      <td>20.0</td>\n",
       "      <td>NaN</td>\n",
       "      <td>40.0</td>\n",
       "      <td>4</td>\n",
       "      <td>12 meatballs</td>\n",
       "      <td>3327.0</td>\n",
       "      <td>774.0</td>\n",
       "      <td>200.0</td>\n",
       "      <td>...</td>\n",
       "      <td>0</td>\n",
       "      <td>0</td>\n",
       "      <td>1</td>\n",
       "      <td>0</td>\n",
       "      <td>0</td>\n",
       "      <td>0</td>\n",
       "      <td>0</td>\n",
       "      <td>0</td>\n",
       "      <td>0</td>\n",
       "      <td>0</td>\n",
       "    </tr>\n",
       "    <tr>\n",
       "      <th>1000</th>\n",
       "      <td>Air-Fryer Roasted Veggies</td>\n",
       "      <td>20.0</td>\n",
       "      <td>10.0</td>\n",
       "      <td>NaN</td>\n",
       "      <td>30.0</td>\n",
       "      <td>4</td>\n",
       "      <td>2 cups</td>\n",
       "      <td>9.0</td>\n",
       "      <td>1.0</td>\n",
       "      <td>2.0</td>\n",
       "      <td>...</td>\n",
       "      <td>0</td>\n",
       "      <td>0</td>\n",
       "      <td>1</td>\n",
       "      <td>0</td>\n",
       "      <td>0</td>\n",
       "      <td>0</td>\n",
       "      <td>0</td>\n",
       "      <td>0</td>\n",
       "      <td>0</td>\n",
       "      <td>0</td>\n",
       "    </tr>\n",
       "  </tbody>\n",
       "</table>\n",
       "<p>5 rows × 43 columns</p>\n",
       "</div>"
      ],
      "text/plain": [
       "                           name  prep  cook  additional  total  servings  \\\n",
       "996                    Biscotti  15.0  25.0         NaN   40.0        42   \n",
       "997                Potato Salad  20.0  10.0       360.0  390.0        20   \n",
       "998            Top Ramen® Salad  15.0  10.0        30.0   55.0         6   \n",
       "999            Meatball Nirvana  20.0  20.0         NaN   40.0         4   \n",
       "1000  Air-Fryer Roasted Veggies  20.0  10.0         NaN   30.0         4   \n",
       "\n",
       "             yield  5 stars  4 stars  3 stars  ...  vanilla  rosemary pepper  \\\n",
       "996   3 to 4 dozen    866.0    163.0     40.0  ...        0         0      0   \n",
       "997    20 servings    168.0     56.0      8.0  ...        0         0      1   \n",
       "998     6 servings     23.0     13.0      3.0  ...        0         0      0   \n",
       "999   12 meatballs   3327.0    774.0    200.0  ...        0         0      1   \n",
       "1000        2 cups      9.0      1.0      2.0  ...        0         0      1   \n",
       "\n",
       "     thyme  clove  paprika  cumin  basil  cilantro  cinnamon  \n",
       "996      0      0        0      0      0         0         0  \n",
       "997      0      0        0      0      0         0         0  \n",
       "998      0      0        0      0      0         0         0  \n",
       "999      0      0        0      0      0         0         0  \n",
       "1000     0      0        0      0      0         0         0  \n",
       "\n",
       "[5 rows x 43 columns]"
      ]
     },
     "execution_count": 49,
     "metadata": {},
     "output_type": "execute_result"
    }
   ],
   "source": [
    "allrecipes_df.tail()"
   ]
  },
  {
   "cell_type": "markdown",
   "metadata": {},
   "source": [
    "Great! It seems that we are done!"
   ]
  }
 ],
 "metadata": {
  "kernelspec": {
   "display_name": "Python 3",
   "language": "python",
   "name": "python3"
  },
  "language_info": {
   "codemirror_mode": {
    "name": "ipython",
    "version": 3
   },
   "file_extension": ".py",
   "mimetype": "text/x-python",
   "name": "python",
   "nbconvert_exporter": "python",
   "pygments_lexer": "ipython3",
   "version": "3.8.5"
  }
 },
 "nbformat": 4,
 "nbformat_minor": 4
}
