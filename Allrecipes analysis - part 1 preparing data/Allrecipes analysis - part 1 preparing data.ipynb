{
 "cells": [
  {
   "cell_type": "markdown",
   "metadata": {},
   "source": [
    "# <center> Allrecipes analysis - part 1: preparing data </center>"
   ]
  },
  {
   "cell_type": "markdown",
   "metadata": {},
   "source": [
    "Aim of this project is to prepare data collected from the internet for further analysis. Data was collected with a web scraper available as the following file in the Github repository - allrecipes_recipe_scraper.py. All data collected with the scraper was saved as a JSON file (data.json) and is available in the repository. Additionally, the list of herbs was compiled from the Encyclopedia Britannica and other online sources. The scraped data consists of 1000 records representing individual recipes from www.allrecipes.com website and 14 columns describing their characteristics. Below you can see the scope of the collected data:\n",
    "\n",
    "* name: recipe name\n",
    "* prep: preparation time\n",
    "* cook: cooking time\n",
    "* additional: additional time\n",
    "* total: total time to prepare the recipe\n",
    "* servings: number of dish servings received from recipe\n",
    "* yield: number of dish servings in an appropriate measurement unit\n",
    "* 5 stars: number of 5-star reviews received by the recipe\n",
    "* 4 stars: number of 4-star reviews received by the recipe\n",
    "* 3 stars: number of 3-star reviews received by the recipe\n",
    "* 2 stars: number of 2-star reviews received by the recipe\n",
    "* 1 stars: number of 1-star reviews received by the recipe\n",
    "* nutrition: list of nutrients with assigned values\n",
    "* ingredients: list of all ingredients used in the recipe\n",
    "\n",
    "Number of analysed recipes was limited to 1000 to limit computational load but I believe it could be reproduced with more records if needed.\n",
    "\n",
    "In the following steps we will be preparing data for further exploratory analysis. You can think about it as of a data cleaning part of the analysis project.\n",
    "\n",
    "The initial step of our project is to import all necessary modules that we are going to use throughout the data cleaning process."
   ]
  },
  {
   "cell_type": "code",
   "execution_count": 1,
   "metadata": {},
   "outputs": [],
   "source": [
    "import pandas as pd\n",
    "import numpy as np\n",
    "import random"
   ]
  },
  {
   "cell_type": "markdown",
   "metadata": {},
   "source": [
    "Once we’ve imported all necessary modules, we can read the data from data.json file and save it as pandas Dataframe in the allrecipes_df variable.\n",
    "\n",
    "Additionally, since we have quite a bit of data to take a look at, we will set the display options of pandas to print all the columns."
   ]
  },
  {
   "cell_type": "code",
   "execution_count": 2,
   "metadata": {},
   "outputs": [],
   "source": [
    "allrecipes_df = pd.read_json('data.json', orient = 'index')\n",
    "\n",
    "pd.set_option('display.max_columns', None)"
   ]
  },
  {
   "cell_type": "markdown",
   "metadata": {},
   "source": [
    "Now that we have the data available in allrecipes_df variable we can perform some basic data exploration to get a grasp of what are we dealing with. In the following few lines of code, we are going to check all available columns of the Dataframe and data types associated with each column. Additionally, we will print out first few rows of the data set."
   ]
  },
  {
   "cell_type": "code",
   "execution_count": 3,
   "metadata": {},
   "outputs": [
    {
     "name": "stdout",
     "output_type": "stream",
     "text": [
      "Index(['name', 'prep:', 'cook:', 'additional:', 'total:', 'Servings:',\n",
      "       'Yield:', '5 stars', '4 stars', '3 stars', '2 stars', '1 stars',\n",
      "       'nutrition', 'ingredients'],\n",
      "      dtype='object')\n"
     ]
    }
   ],
   "source": [
    "print(allrecipes_df.columns)"
   ]
  },
  {
   "cell_type": "code",
   "execution_count": 4,
   "metadata": {},
   "outputs": [
    {
     "data": {
      "text/plain": [
       "name            object\n",
       "prep:           object\n",
       "cook:           object\n",
       "additional:     object\n",
       "total:          object\n",
       "Servings:        int64\n",
       "Yield:          object\n",
       "5 stars        float64\n",
       "4 stars        float64\n",
       "3 stars        float64\n",
       "2 stars        float64\n",
       "1 stars        float64\n",
       "nutrition       object\n",
       "ingredients     object\n",
       "dtype: object"
      ]
     },
     "execution_count": 4,
     "metadata": {},
     "output_type": "execute_result"
    }
   ],
   "source": [
    "allrecipes_df.dtypes"
   ]
  },
  {
   "cell_type": "code",
   "execution_count": 5,
   "metadata": {},
   "outputs": [
    {
     "data": {
      "text/html": [
       "<div>\n",
       "<style scoped>\n",
       "    .dataframe tbody tr th:only-of-type {\n",
       "        vertical-align: middle;\n",
       "    }\n",
       "\n",
       "    .dataframe tbody tr th {\n",
       "        vertical-align: top;\n",
       "    }\n",
       "\n",
       "    .dataframe thead th {\n",
       "        text-align: right;\n",
       "    }\n",
       "</style>\n",
       "<table border=\"1\" class=\"dataframe\">\n",
       "  <thead>\n",
       "    <tr style=\"text-align: right;\">\n",
       "      <th></th>\n",
       "      <th>name</th>\n",
       "      <th>prep:</th>\n",
       "      <th>cook:</th>\n",
       "      <th>additional:</th>\n",
       "      <th>total:</th>\n",
       "      <th>Servings:</th>\n",
       "      <th>Yield:</th>\n",
       "      <th>5 stars</th>\n",
       "      <th>4 stars</th>\n",
       "      <th>3 stars</th>\n",
       "      <th>2 stars</th>\n",
       "      <th>1 stars</th>\n",
       "      <th>nutrition</th>\n",
       "      <th>ingredients</th>\n",
       "    </tr>\n",
       "  </thead>\n",
       "  <tbody>\n",
       "    <tr>\n",
       "      <th>1</th>\n",
       "      <td>Juicy Roasted Chicken</td>\n",
       "      <td>10 mins</td>\n",
       "      <td>1 hr 15 mins</td>\n",
       "      <td>15 mins</td>\n",
       "      <td>1 hr 40 mins</td>\n",
       "      <td>6</td>\n",
       "      <td>6 servings</td>\n",
       "      <td>3179.0</td>\n",
       "      <td>538.0</td>\n",
       "      <td>147.0</td>\n",
       "      <td>47.0</td>\n",
       "      <td>42.0</td>\n",
       "      <td>423 calories; protein 30.9g; carbohydrates 1.2...</td>\n",
       "      <td>1 (3 pound) whole chicken, giblets removed,sal...</td>\n",
       "    </tr>\n",
       "    <tr>\n",
       "      <th>2</th>\n",
       "      <td>Microwave Corn on the Cob</td>\n",
       "      <td>None</td>\n",
       "      <td>5 mins</td>\n",
       "      <td>None</td>\n",
       "      <td>5 mins</td>\n",
       "      <td>1</td>\n",
       "      <td>1 serving</td>\n",
       "      <td>382.0</td>\n",
       "      <td>102.0</td>\n",
       "      <td>29.0</td>\n",
       "      <td>5.0</td>\n",
       "      <td>6.0</td>\n",
       "      <td>123 calories; protein 4.6g; carbohydrates 27.2...</td>\n",
       "      <td>1 ear corn, husked and cleaned</td>\n",
       "    </tr>\n",
       "    <tr>\n",
       "      <th>3</th>\n",
       "      <td>French Toast I</td>\n",
       "      <td>5 mins</td>\n",
       "      <td>15 mins</td>\n",
       "      <td>None</td>\n",
       "      <td>20 mins</td>\n",
       "      <td>3</td>\n",
       "      <td>6 slices french toast</td>\n",
       "      <td>1337.0</td>\n",
       "      <td>473.0</td>\n",
       "      <td>87.0</td>\n",
       "      <td>31.0</td>\n",
       "      <td>29.0</td>\n",
       "      <td>240 calories; protein 10.6g; carbohydrates 33....</td>\n",
       "      <td>6 thick slices bread,2  eggs,⅔ cup milk,¼ teas...</td>\n",
       "    </tr>\n",
       "    <tr>\n",
       "      <th>4</th>\n",
       "      <td>The Best Banana Pudding</td>\n",
       "      <td>25 mins</td>\n",
       "      <td>None</td>\n",
       "      <td>None</td>\n",
       "      <td>25 mins</td>\n",
       "      <td>20</td>\n",
       "      <td>20 servings</td>\n",
       "      <td>830.0</td>\n",
       "      <td>117.0</td>\n",
       "      <td>30.0</td>\n",
       "      <td>15.0</td>\n",
       "      <td>15.0</td>\n",
       "      <td>329 calories; protein 4.2g; carbohydrates 56.9...</td>\n",
       "      <td>1 (5 ounce) package instant vanilla pudding mi...</td>\n",
       "    </tr>\n",
       "    <tr>\n",
       "      <th>5</th>\n",
       "      <td>Simple Macaroni and Cheese</td>\n",
       "      <td>10 mins</td>\n",
       "      <td>20 mins</td>\n",
       "      <td>None</td>\n",
       "      <td>30 mins</td>\n",
       "      <td>4</td>\n",
       "      <td>4 servings</td>\n",
       "      <td>545.0</td>\n",
       "      <td>188.0</td>\n",
       "      <td>51.0</td>\n",
       "      <td>26.0</td>\n",
       "      <td>31.0</td>\n",
       "      <td>630 calories; protein 26.5g; carbohydrates 55g...</td>\n",
       "      <td>1 (8 ounce) box elbow macaroni,¼ cup butter,¼ ...</td>\n",
       "    </tr>\n",
       "  </tbody>\n",
       "</table>\n",
       "</div>"
      ],
      "text/plain": [
       "                         name    prep:         cook: additional:  \\\n",
       "1       Juicy Roasted Chicken  10 mins  1 hr 15 mins     15 mins   \n",
       "2   Microwave Corn on the Cob     None        5 mins        None   \n",
       "3              French Toast I   5 mins       15 mins        None   \n",
       "4     The Best Banana Pudding  25 mins          None        None   \n",
       "5  Simple Macaroni and Cheese  10 mins       20 mins        None   \n",
       "\n",
       "         total:  Servings:                 Yield:  5 stars  4 stars  3 stars  \\\n",
       "1  1 hr 40 mins          6             6 servings   3179.0    538.0    147.0   \n",
       "2        5 mins          1              1 serving    382.0    102.0     29.0   \n",
       "3       20 mins          3  6 slices french toast   1337.0    473.0     87.0   \n",
       "4       25 mins         20            20 servings    830.0    117.0     30.0   \n",
       "5       30 mins          4             4 servings    545.0    188.0     51.0   \n",
       "\n",
       "   2 stars  1 stars                                          nutrition  \\\n",
       "1     47.0     42.0  423 calories; protein 30.9g; carbohydrates 1.2...   \n",
       "2      5.0      6.0  123 calories; protein 4.6g; carbohydrates 27.2...   \n",
       "3     31.0     29.0  240 calories; protein 10.6g; carbohydrates 33....   \n",
       "4     15.0     15.0  329 calories; protein 4.2g; carbohydrates 56.9...   \n",
       "5     26.0     31.0  630 calories; protein 26.5g; carbohydrates 55g...   \n",
       "\n",
       "                                         ingredients  \n",
       "1  1 (3 pound) whole chicken, giblets removed,sal...  \n",
       "2                     1 ear corn, husked and cleaned  \n",
       "3  6 thick slices bread,2  eggs,⅔ cup milk,¼ teas...  \n",
       "4  1 (5 ounce) package instant vanilla pudding mi...  \n",
       "5  1 (8 ounce) box elbow macaroni,¼ cup butter,¼ ...  "
      ]
     },
     "execution_count": 5,
     "metadata": {},
     "output_type": "execute_result"
    }
   ],
   "source": [
    "allrecipes_df.head()"
   ]
  },
  {
   "cell_type": "markdown",
   "metadata": {},
   "source": [
    "We will also check some statistical measures with the Dataframe describe() method. It will calculate count, min, max, mean, standard deviation and 25th/75th percentiles in all columns that consists of numerical values. Columns with non-numerical values are automatically omitted."
   ]
  },
  {
   "cell_type": "code",
   "execution_count": 6,
   "metadata": {},
   "outputs": [
    {
     "data": {
      "text/html": [
       "<div>\n",
       "<style scoped>\n",
       "    .dataframe tbody tr th:only-of-type {\n",
       "        vertical-align: middle;\n",
       "    }\n",
       "\n",
       "    .dataframe tbody tr th {\n",
       "        vertical-align: top;\n",
       "    }\n",
       "\n",
       "    .dataframe thead th {\n",
       "        text-align: right;\n",
       "    }\n",
       "</style>\n",
       "<table border=\"1\" class=\"dataframe\">\n",
       "  <thead>\n",
       "    <tr style=\"text-align: right;\">\n",
       "      <th></th>\n",
       "      <th>Servings:</th>\n",
       "      <th>5 stars</th>\n",
       "      <th>4 stars</th>\n",
       "      <th>3 stars</th>\n",
       "      <th>2 stars</th>\n",
       "      <th>1 stars</th>\n",
       "    </tr>\n",
       "  </thead>\n",
       "  <tbody>\n",
       "    <tr>\n",
       "      <th>count</th>\n",
       "      <td>1000.000000</td>\n",
       "      <td>980.000000</td>\n",
       "      <td>980.000000</td>\n",
       "      <td>980.000000</td>\n",
       "      <td>980.000000</td>\n",
       "      <td>980.000000</td>\n",
       "    </tr>\n",
       "    <tr>\n",
       "      <th>mean</th>\n",
       "      <td>9.782000</td>\n",
       "      <td>859.734694</td>\n",
       "      <td>202.681633</td>\n",
       "      <td>52.773469</td>\n",
       "      <td>19.970408</td>\n",
       "      <td>17.451020</td>\n",
       "    </tr>\n",
       "    <tr>\n",
       "      <th>std</th>\n",
       "      <td>11.847736</td>\n",
       "      <td>1467.753844</td>\n",
       "      <td>282.735392</td>\n",
       "      <td>79.691308</td>\n",
       "      <td>32.956996</td>\n",
       "      <td>35.097481</td>\n",
       "    </tr>\n",
       "    <tr>\n",
       "      <th>min</th>\n",
       "      <td>1.000000</td>\n",
       "      <td>1.000000</td>\n",
       "      <td>0.000000</td>\n",
       "      <td>0.000000</td>\n",
       "      <td>0.000000</td>\n",
       "      <td>0.000000</td>\n",
       "    </tr>\n",
       "    <tr>\n",
       "      <th>25%</th>\n",
       "      <td>4.000000</td>\n",
       "      <td>133.750000</td>\n",
       "      <td>35.000000</td>\n",
       "      <td>8.000000</td>\n",
       "      <td>3.000000</td>\n",
       "      <td>2.000000</td>\n",
       "    </tr>\n",
       "    <tr>\n",
       "      <th>50%</th>\n",
       "      <td>6.000000</td>\n",
       "      <td>381.500000</td>\n",
       "      <td>102.500000</td>\n",
       "      <td>26.000000</td>\n",
       "      <td>9.000000</td>\n",
       "      <td>7.000000</td>\n",
       "    </tr>\n",
       "    <tr>\n",
       "      <th>75%</th>\n",
       "      <td>12.000000</td>\n",
       "      <td>934.750000</td>\n",
       "      <td>242.250000</td>\n",
       "      <td>63.000000</td>\n",
       "      <td>23.000000</td>\n",
       "      <td>18.000000</td>\n",
       "    </tr>\n",
       "    <tr>\n",
       "      <th>max</th>\n",
       "      <td>192.000000</td>\n",
       "      <td>14902.000000</td>\n",
       "      <td>2581.000000</td>\n",
       "      <td>810.000000</td>\n",
       "      <td>362.000000</td>\n",
       "      <td>606.000000</td>\n",
       "    </tr>\n",
       "  </tbody>\n",
       "</table>\n",
       "</div>"
      ],
      "text/plain": [
       "         Servings:       5 stars      4 stars     3 stars     2 stars  \\\n",
       "count  1000.000000    980.000000   980.000000  980.000000  980.000000   \n",
       "mean      9.782000    859.734694   202.681633   52.773469   19.970408   \n",
       "std      11.847736   1467.753844   282.735392   79.691308   32.956996   \n",
       "min       1.000000      1.000000     0.000000    0.000000    0.000000   \n",
       "25%       4.000000    133.750000    35.000000    8.000000    3.000000   \n",
       "50%       6.000000    381.500000   102.500000   26.000000    9.000000   \n",
       "75%      12.000000    934.750000   242.250000   63.000000   23.000000   \n",
       "max     192.000000  14902.000000  2581.000000  810.000000  362.000000   \n",
       "\n",
       "          1 stars  \n",
       "count  980.000000  \n",
       "mean    17.451020  \n",
       "std     35.097481  \n",
       "min      0.000000  \n",
       "25%      2.000000  \n",
       "50%      7.000000  \n",
       "75%     18.000000  \n",
       "max    606.000000  "
      ]
     },
     "execution_count": 6,
     "metadata": {},
     "output_type": "execute_result"
    }
   ],
   "source": [
    "allrecipes_df.describe()"
   ]
  },
  {
   "cell_type": "markdown",
   "metadata": {},
   "source": [
    "The important part of any data analysis project is to verify whether there are any missing values in the dataset. We are going to check how many records (individual recipes) have at least one characteristic (value in a specific column) missing. Next, we will check how many missing values occur in each column of the dataset."
   ]
  },
  {
   "cell_type": "code",
   "execution_count": 7,
   "metadata": {},
   "outputs": [
    {
     "name": "stdout",
     "output_type": "stream",
     "text": [
      "Number of rows with missing values: 769\n"
     ]
    }
   ],
   "source": [
    "rows_with_missing_values = allrecipes_df.isnull().any(axis = 1).sum() # in the whole dataset\n",
    "print(f'Number of rows with missing values: {rows_with_missing_values}')"
   ]
  },
  {
   "cell_type": "code",
   "execution_count": 8,
   "metadata": {},
   "outputs": [
    {
     "data": {
      "text/plain": [
       "name             0\n",
       "prep:           52\n",
       "cook:          183\n",
       "additional:    717\n",
       "total:          49\n",
       "Servings:        0\n",
       "Yield:           0\n",
       "5 stars         20\n",
       "4 stars         20\n",
       "3 stars         20\n",
       "2 stars         20\n",
       "1 stars         20\n",
       "nutrition        1\n",
       "ingredients      0\n",
       "dtype: int64"
      ]
     },
     "execution_count": 8,
     "metadata": {},
     "output_type": "execute_result"
    }
   ],
   "source": [
    "allrecipes_df.isnull().sum(axis = 0) # count per column"
   ]
  },
  {
   "cell_type": "markdown",
   "metadata": {},
   "source": [
    "There is over 70% of missing values in the ‘additional’ column of our Dataframe. In some circumstances it would be enough to drop this column as useless. In our case, however, ‘additional’ column will play a role in the future and therefore we are going to leave it for now.\n",
    "\n",
    "Now that we have learned a little bit about the data, we can start the cleaning process. We are going to start with fixing column names formatting. In this step we will remove all whitespaces and colons from the end of a column names and put it all in lower case."
   ]
  },
  {
   "cell_type": "code",
   "execution_count": 9,
   "metadata": {},
   "outputs": [
    {
     "name": "stdout",
     "output_type": "stream",
     "text": [
      "Index(['name', 'prep', 'cook', 'additional', 'total', 'servings', 'yield',\n",
      "       '5 stars', '4 stars', '3 stars', '2 stars', '1 stars', 'nutrition',\n",
      "       'ingredients'],\n",
      "      dtype='object')\n"
     ]
    }
   ],
   "source": [
    "allrecipes_df.rename(columns = lambda x: x.lower().strip().strip(':'), inplace = True)\n",
    "print(allrecipes_df.columns)"
   ]
  },
  {
   "cell_type": "markdown",
   "metadata": {},
   "source": [
    "The column names are nicely formatted now. This should help us in the future when we try to refer to any particular piece of data. In the following steps we will create some new columns and modify the existing ones. This process should enrich our dataset and help us ultimately get to some meaningful findings about the recipes. We can start with creating column ‘recipe_score’ containing information regarding recipe’s overall scoring."
   ]
  },
  {
   "cell_type": "code",
   "execution_count": 10,
   "metadata": {},
   "outputs": [],
   "source": [
    "allrecipes_df['recipe_score'] = (allrecipes_df['1 stars'] * 1\n",
    "                                + allrecipes_df['2 stars'] * 2\n",
    "                                + allrecipes_df['3 stars'] * 3\n",
    "                                + allrecipes_df['4 stars'] * 4\n",
    "                                + allrecipes_df['5 stars'] * 5) / (allrecipes_df['1 stars'] \n",
    "                                                                   + allrecipes_df['2 stars'] \n",
    "                                                                   + allrecipes_df['3 stars'] \n",
    "                                                                   + allrecipes_df['4 stars'] \n",
    "                                                                   + allrecipes_df['5 stars'])"
   ]
  },
  {
   "cell_type": "markdown",
   "metadata": {},
   "source": [
    "Next, we should create a column ‘number_of_reviews’ containing number of total reviews that recipe got. Without this information, it would be difficult to asses whether the overall score is representative or not in the future."
   ]
  },
  {
   "cell_type": "code",
   "execution_count": 11,
   "metadata": {},
   "outputs": [],
   "source": [
    "allrecipes_df['number_of_reviews'] = (allrecipes_df['1 stars']\n",
    "                                     + allrecipes_df['2 stars']\n",
    "                                     + allrecipes_df['3 stars']\n",
    "                                     + allrecipes_df['4 stars']\n",
    "                                     + allrecipes_df['5 stars'])"
   ]
  },
  {
   "cell_type": "markdown",
   "metadata": {},
   "source": [
    "We know that ‘nutrients' column contains information about the nutritional components of a recipe. Those information are currently stored as one long string. In the current format ‘nutrients’ column doesn’t allow for any quantitative analysis. If we want to extract meaningful information from ‘nutrients’ column, firstly we need to see how exactly are the information stored now and whether there are any data points missing. If missing values occur, we might need to incorporate exception handling in the process of extracting information about nutrients."
   ]
  },
  {
   "cell_type": "code",
   "execution_count": 12,
   "metadata": {},
   "outputs": [
    {
     "data": {
      "text/plain": [
       "1     423 calories; protein 30.9g; carbohydrates 1.2...\n",
       "2     123 calories; protein 4.6g; carbohydrates 27.2...\n",
       "3     240 calories; protein 10.6g; carbohydrates 33....\n",
       "4     329 calories; protein 4.2g; carbohydrates 56.9...\n",
       "5     630 calories; protein 26.5g; carbohydrates 55g...\n",
       "6     507 calories; protein 33.1g; carbohydrates 8.7...\n",
       "7     170 calories; protein 4.8g; carbohydrates 28.1...\n",
       "8     247 calories; protein 6.8g; carbohydrates 33.5...\n",
       "9     333 calories; protein 9.8g; carbohydrates 30.8...\n",
       "10    252 calories; protein 4.5g; carbohydrates 29.7...\n",
       "Name: nutrition, dtype: object"
      ]
     },
     "execution_count": 12,
     "metadata": {},
     "output_type": "execute_result"
    }
   ],
   "source": [
    "allrecipes_df['nutrition'].head(10)"
   ]
  },
  {
   "cell_type": "code",
   "execution_count": 13,
   "metadata": {},
   "outputs": [
    {
     "data": {
      "text/html": [
       "<div>\n",
       "<style scoped>\n",
       "    .dataframe tbody tr th:only-of-type {\n",
       "        vertical-align: middle;\n",
       "    }\n",
       "\n",
       "    .dataframe tbody tr th {\n",
       "        vertical-align: top;\n",
       "    }\n",
       "\n",
       "    .dataframe thead th {\n",
       "        text-align: right;\n",
       "    }\n",
       "</style>\n",
       "<table border=\"1\" class=\"dataframe\">\n",
       "  <thead>\n",
       "    <tr style=\"text-align: right;\">\n",
       "      <th></th>\n",
       "      <th>name</th>\n",
       "      <th>prep</th>\n",
       "      <th>cook</th>\n",
       "      <th>additional</th>\n",
       "      <th>total</th>\n",
       "      <th>servings</th>\n",
       "      <th>yield</th>\n",
       "      <th>5 stars</th>\n",
       "      <th>4 stars</th>\n",
       "      <th>3 stars</th>\n",
       "      <th>2 stars</th>\n",
       "      <th>1 stars</th>\n",
       "      <th>nutrition</th>\n",
       "      <th>ingredients</th>\n",
       "      <th>recipe_score</th>\n",
       "      <th>number_of_reviews</th>\n",
       "    </tr>\n",
       "  </thead>\n",
       "  <tbody>\n",
       "    <tr>\n",
       "      <th>368</th>\n",
       "      <td>Campbell's® Tuna Noodle Casserole</td>\n",
       "      <td>10 mins</td>\n",
       "      <td>35 mins</td>\n",
       "      <td>None</td>\n",
       "      <td>45 mins</td>\n",
       "      <td>8</td>\n",
       "      <td>8 servings</td>\n",
       "      <td>252.0</td>\n",
       "      <td>147.0</td>\n",
       "      <td>47.0</td>\n",
       "      <td>10.0</td>\n",
       "      <td>3.0</td>\n",
       "      <td>None</td>\n",
       "      <td>2 (10.75 ounce) cans  Campbell's® Condensed Cr...</td>\n",
       "      <td>4.383442</td>\n",
       "      <td>459.0</td>\n",
       "    </tr>\n",
       "  </tbody>\n",
       "</table>\n",
       "</div>"
      ],
      "text/plain": [
       "                                  name     prep     cook additional    total  \\\n",
       "368  Campbell's® Tuna Noodle Casserole  10 mins  35 mins       None  45 mins   \n",
       "\n",
       "     servings       yield  5 stars  4 stars  3 stars  2 stars  1 stars  \\\n",
       "368         8  8 servings    252.0    147.0     47.0     10.0      3.0   \n",
       "\n",
       "    nutrition                                        ingredients  \\\n",
       "368      None  2 (10.75 ounce) cans  Campbell's® Condensed Cr...   \n",
       "\n",
       "     recipe_score  number_of_reviews  \n",
       "368      4.383442              459.0  "
      ]
     },
     "execution_count": 13,
     "metadata": {},
     "output_type": "execute_result"
    }
   ],
   "source": [
    "allrecipes_df[allrecipes_df['nutrition'].isnull()]   "
   ]
  },
  {
   "cell_type": "markdown",
   "metadata": {},
   "source": [
    "It turns out that there is only one recipe for which nutrients information are not available. Now that we have a better overview of the situation we can start the process of separating information about individual nutrients into respective columns. First, we are going to create an empty column per each nutrient."
   ]
  },
  {
   "cell_type": "code",
   "execution_count": 14,
   "metadata": {},
   "outputs": [],
   "source": [
    "allrecipes_df['calories'] = np.nan\n",
    "allrecipes_df['protein'] = np.nan\n",
    "allrecipes_df['carbohydrates'] = np.nan\n",
    "allrecipes_df['fat'] = np.nan\n",
    "allrecipes_df['cholesterol'] = np.nan\n",
    "allrecipes_df['sodium'] = np.nan"
   ]
  },
  {
   "cell_type": "markdown",
   "metadata": {},
   "source": [
    "In the following part we will separate the information from the ‘nutrients’ column. To achieve this we will perform the following steps while iterating over each row in the column:\n",
    "1. Split the string into list of individual words\n",
    "2. Strip all whitespaces and semicolons from words in the list\n",
    "3. For each word in the list check whether it is equal to specific nutrients\n",
    "4. If the word in the list is equal to a nutrient name, we assign the next value from the list to a dedicated nutrient column with the index of a currently considered row. The only exception are calories, in which case we assign not the next but previous value from the list to the appropriate column.\n",
    "\n",
    "We have incorporated exception handling that omits the whole process if the first step cannot be fulfilled. This is necessary since null values can’t be split as they are considered floats."
   ]
  },
  {
   "cell_type": "code",
   "execution_count": 15,
   "metadata": {},
   "outputs": [],
   "source": [
    "for index, nutrition_string in allrecipes_df['nutrition'].iteritems():\n",
    "    try:\n",
    "        nutrition_list = nutrition_string.split()\n",
    "        nutrition_list = [value.strip().strip(';') for value in nutrition_list]\n",
    "        for i in range(len(nutrition_list)):\n",
    "            \n",
    "            if nutrition_list[i] == 'calories':\n",
    "                allrecipes_df.loc[index, 'calories'] = nutrition_list[i-1]\n",
    "                \n",
    "            if nutrition_list[i] == 'protein':\n",
    "                allrecipes_df.loc[index, 'protein'] = nutrition_list[i+1]\n",
    "                    \n",
    "            if nutrition_list[i] == 'carbohydrates':\n",
    "                allrecipes_df.loc[index, 'carbohydrates'] = nutrition_list[i+1]\n",
    "                \n",
    "            if nutrition_list[i] == 'fat':\n",
    "                allrecipes_df.loc[index, 'fat'] = nutrition_list[i+1]\n",
    "                \n",
    "            if nutrition_list[i] == 'cholesterol':\n",
    "                allrecipes_df.loc[index, 'cholesterol'] = nutrition_list[i+1]\n",
    "                \n",
    "            if nutrition_list[i] == 'sodium':\n",
    "                allrecipes_df.loc[index, 'sodium'] = nutrition_list[i+1]\n",
    "    except:\n",
    "        continue"
   ]
  },
  {
   "cell_type": "markdown",
   "metadata": {},
   "source": [
    "In order to maintain data accuracy we should perform check whether data was splitter correctly. We will generate few random indexes and print both ‘nutrients’ column and individual nutrients column to compare whether data match."
   ]
  },
  {
   "cell_type": "code",
   "execution_count": 16,
   "metadata": {},
   "outputs": [
    {
     "name": "stdout",
     "output_type": "stream",
     "text": [
      "\n",
      "Recipe number 754:\n",
      "307 calories; protein 5.4g; carbohydrates 19.3g; fat 23.6g; cholesterol 14mg; sodium 258.1mg.\n",
      "\n",
      "calories              307\n",
      "protein              5.4g\n",
      "carbohydrates       19.3g\n",
      "fat                 23.6g\n",
      "cholesterol          14mg\n",
      "sodium           258.1mg.\n",
      "Name: 754, dtype: object\n",
      "\n",
      "Recipe number 473:\n",
      "46 calories; protein 0.2g; carbohydrates 5.3g; fat 2.9g; cholesterol 7.6mg; sodium 23.1mg.\n",
      "\n",
      "calories              46\n",
      "protein             0.2g\n",
      "carbohydrates       5.3g\n",
      "fat                 2.9g\n",
      "cholesterol        7.6mg\n",
      "sodium           23.1mg.\n",
      "Name: 473, dtype: object\n",
      "\n",
      "Recipe number 660:\n",
      "375 calories; protein 27.1g; carbohydrates 30.4g; fat 15.5g; cholesterol 64.2mg; sodium 1250.2mg.\n",
      "\n",
      "calories               375\n",
      "protein              27.1g\n",
      "carbohydrates        30.4g\n",
      "fat                  15.5g\n",
      "cholesterol         64.2mg\n",
      "sodium           1250.2mg.\n",
      "Name: 660, dtype: object\n",
      "\n",
      "Recipe number 299:\n",
      "248 calories; protein 16g; carbohydrates 25.6g; fat 9.4g; cholesterol 45.9mg; sodium 563.6mg.\n",
      "\n",
      "calories              248\n",
      "protein               16g\n",
      "carbohydrates       25.6g\n",
      "fat                  9.4g\n",
      "cholesterol        45.9mg\n",
      "sodium           563.6mg.\n",
      "Name: 299, dtype: object\n",
      "\n",
      "Recipe number 960:\n",
      "301 calories; protein 28.2g; carbohydrates 11.7g; fat 15.8g; cholesterol 65.4mg; sodium 1188.6mg.\n",
      "\n",
      "calories               301\n",
      "protein              28.2g\n",
      "carbohydrates        11.7g\n",
      "fat                  15.8g\n",
      "cholesterol         65.4mg\n",
      "sodium           1188.6mg.\n",
      "Name: 960, dtype: object\n"
     ]
    }
   ],
   "source": [
    "random_index = random.sample(range(0, 1000), 5)\n",
    "\n",
    "for index in random_index:\n",
    "    print('\\nRecipe number ' + str(index+1) + ':')\n",
    "    print(allrecipes_df['nutrition'].iloc[index].strip('Full Nutrition'))\n",
    "    print(allrecipes_df.iloc[index, 16:])"
   ]
  },
  {
   "cell_type": "markdown",
   "metadata": {},
   "source": [
    "It appears that there are no inaccuracies in the data. We can now strip trailing indicating measurement units from the end of strings in individual nutrients columns. Afterwards we can convert all the values into floats. Finally, once we are left with the numerical values only, we can include the measurement unit in the name of the column."
   ]
  },
  {
   "cell_type": "code",
   "execution_count": 17,
   "metadata": {},
   "outputs": [],
   "source": [
    "allrecipes_df['protein'] = allrecipes_df['protein'].str.rstrip('g').apply(float)\n",
    "allrecipes_df['carbohydrates'] = allrecipes_df['carbohydrates'].str.rstrip('g').apply(float)\n",
    "allrecipes_df['fat'] = allrecipes_df['fat'].str.rstrip('g').apply(float)\n",
    "allrecipes_df['cholesterol'] = allrecipes_df['cholesterol'].str.rstrip('mg').apply(float)\n",
    "allrecipes_df['sodium'] = allrecipes_df['sodium'].str.rstrip('mg.').apply(float)\n",
    "allrecipes_df['calories'] = allrecipes_df['calories'].apply(float)"
   ]
  },
  {
   "cell_type": "code",
   "execution_count": 18,
   "metadata": {},
   "outputs": [],
   "source": [
    "new_nutrient_names = {'protein' : 'protein [g]',\n",
    "                      'carbohydrates' : 'carbohydrates [g]',\n",
    "                      'fat' : 'fat [g]',\n",
    "                      'cholesterol' : 'cholesterol [mg]',\n",
    "                      'sodium' : 'sodium [mg]'}\n",
    "\n",
    "allrecipes_df.rename(columns = new_nutrient_names, inplace = True)"
   ]
  },
  {
   "cell_type": "markdown",
   "metadata": {},
   "source": [
    "Now that we have a column containing information on the calorie content of a recipe, we can divide it by the number of recipe servings and create a new column that would indicate calorie content per recipe portion."
   ]
  },
  {
   "cell_type": "code",
   "execution_count": 19,
   "metadata": {},
   "outputs": [],
   "source": [
    "allrecipes_df['calories_per_serving'] = np.ceil(allrecipes_df['calories'] / allrecipes_df['servings'])"
   ]
  },
  {
   "cell_type": "markdown",
   "metadata": {},
   "source": [
    "We have performed some operations on the dataset by now and it is time to see how it looks at this stage."
   ]
  },
  {
   "cell_type": "code",
   "execution_count": 20,
   "metadata": {},
   "outputs": [
    {
     "data": {
      "text/html": [
       "<div>\n",
       "<style scoped>\n",
       "    .dataframe tbody tr th:only-of-type {\n",
       "        vertical-align: middle;\n",
       "    }\n",
       "\n",
       "    .dataframe tbody tr th {\n",
       "        vertical-align: top;\n",
       "    }\n",
       "\n",
       "    .dataframe thead th {\n",
       "        text-align: right;\n",
       "    }\n",
       "</style>\n",
       "<table border=\"1\" class=\"dataframe\">\n",
       "  <thead>\n",
       "    <tr style=\"text-align: right;\">\n",
       "      <th></th>\n",
       "      <th>name</th>\n",
       "      <th>prep</th>\n",
       "      <th>cook</th>\n",
       "      <th>additional</th>\n",
       "      <th>total</th>\n",
       "      <th>servings</th>\n",
       "      <th>yield</th>\n",
       "      <th>5 stars</th>\n",
       "      <th>4 stars</th>\n",
       "      <th>3 stars</th>\n",
       "      <th>2 stars</th>\n",
       "      <th>1 stars</th>\n",
       "      <th>nutrition</th>\n",
       "      <th>ingredients</th>\n",
       "      <th>recipe_score</th>\n",
       "      <th>number_of_reviews</th>\n",
       "      <th>calories</th>\n",
       "      <th>protein [g]</th>\n",
       "      <th>carbohydrates [g]</th>\n",
       "      <th>fat [g]</th>\n",
       "      <th>cholesterol [mg]</th>\n",
       "      <th>sodium [mg]</th>\n",
       "      <th>calories_per_serving</th>\n",
       "    </tr>\n",
       "  </thead>\n",
       "  <tbody>\n",
       "    <tr>\n",
       "      <th>1</th>\n",
       "      <td>Juicy Roasted Chicken</td>\n",
       "      <td>10 mins</td>\n",
       "      <td>1 hr 15 mins</td>\n",
       "      <td>15 mins</td>\n",
       "      <td>1 hr 40 mins</td>\n",
       "      <td>6</td>\n",
       "      <td>6 servings</td>\n",
       "      <td>3179.0</td>\n",
       "      <td>538.0</td>\n",
       "      <td>147.0</td>\n",
       "      <td>47.0</td>\n",
       "      <td>42.0</td>\n",
       "      <td>423 calories; protein 30.9g; carbohydrates 1.2...</td>\n",
       "      <td>1 (3 pound) whole chicken, giblets removed,sal...</td>\n",
       "      <td>4.711358</td>\n",
       "      <td>3953.0</td>\n",
       "      <td>423.0</td>\n",
       "      <td>30.9</td>\n",
       "      <td>1.2</td>\n",
       "      <td>32.1</td>\n",
       "      <td>97.0</td>\n",
       "      <td>661.9</td>\n",
       "      <td>71.0</td>\n",
       "    </tr>\n",
       "    <tr>\n",
       "      <th>2</th>\n",
       "      <td>Microwave Corn on the Cob</td>\n",
       "      <td>None</td>\n",
       "      <td>5 mins</td>\n",
       "      <td>None</td>\n",
       "      <td>5 mins</td>\n",
       "      <td>1</td>\n",
       "      <td>1 serving</td>\n",
       "      <td>382.0</td>\n",
       "      <td>102.0</td>\n",
       "      <td>29.0</td>\n",
       "      <td>5.0</td>\n",
       "      <td>6.0</td>\n",
       "      <td>123 calories; protein 4.6g; carbohydrates 27.2...</td>\n",
       "      <td>1 ear corn, husked and cleaned</td>\n",
       "      <td>4.620229</td>\n",
       "      <td>524.0</td>\n",
       "      <td>123.0</td>\n",
       "      <td>4.6</td>\n",
       "      <td>27.2</td>\n",
       "      <td>1.7</td>\n",
       "      <td>NaN</td>\n",
       "      <td>21.5</td>\n",
       "      <td>123.0</td>\n",
       "    </tr>\n",
       "    <tr>\n",
       "      <th>3</th>\n",
       "      <td>French Toast I</td>\n",
       "      <td>5 mins</td>\n",
       "      <td>15 mins</td>\n",
       "      <td>None</td>\n",
       "      <td>20 mins</td>\n",
       "      <td>3</td>\n",
       "      <td>6 slices french toast</td>\n",
       "      <td>1337.0</td>\n",
       "      <td>473.0</td>\n",
       "      <td>87.0</td>\n",
       "      <td>31.0</td>\n",
       "      <td>29.0</td>\n",
       "      <td>240 calories; protein 10.6g; carbohydrates 33....</td>\n",
       "      <td>6 thick slices bread,2  eggs,⅔ cup milk,¼ teas...</td>\n",
       "      <td>4.562596</td>\n",
       "      <td>1957.0</td>\n",
       "      <td>240.0</td>\n",
       "      <td>10.6</td>\n",
       "      <td>33.6</td>\n",
       "      <td>6.4</td>\n",
       "      <td>128.3</td>\n",
       "      <td>477.7</td>\n",
       "      <td>80.0</td>\n",
       "    </tr>\n",
       "    <tr>\n",
       "      <th>4</th>\n",
       "      <td>The Best Banana Pudding</td>\n",
       "      <td>25 mins</td>\n",
       "      <td>None</td>\n",
       "      <td>None</td>\n",
       "      <td>25 mins</td>\n",
       "      <td>20</td>\n",
       "      <td>20 servings</td>\n",
       "      <td>830.0</td>\n",
       "      <td>117.0</td>\n",
       "      <td>30.0</td>\n",
       "      <td>15.0</td>\n",
       "      <td>15.0</td>\n",
       "      <td>329 calories; protein 4.2g; carbohydrates 56.9...</td>\n",
       "      <td>1 (5 ounce) package instant vanilla pudding mi...</td>\n",
       "      <td>4.719960</td>\n",
       "      <td>1007.0</td>\n",
       "      <td>329.0</td>\n",
       "      <td>4.2</td>\n",
       "      <td>56.9</td>\n",
       "      <td>9.6</td>\n",
       "      <td>8.6</td>\n",
       "      <td>205.2</td>\n",
       "      <td>17.0</td>\n",
       "    </tr>\n",
       "    <tr>\n",
       "      <th>5</th>\n",
       "      <td>Simple Macaroni and Cheese</td>\n",
       "      <td>10 mins</td>\n",
       "      <td>20 mins</td>\n",
       "      <td>None</td>\n",
       "      <td>30 mins</td>\n",
       "      <td>4</td>\n",
       "      <td>4 servings</td>\n",
       "      <td>545.0</td>\n",
       "      <td>188.0</td>\n",
       "      <td>51.0</td>\n",
       "      <td>26.0</td>\n",
       "      <td>31.0</td>\n",
       "      <td>630 calories; protein 26.5g; carbohydrates 55g...</td>\n",
       "      <td>1 (8 ounce) box elbow macaroni,¼ cup butter,¼ ...</td>\n",
       "      <td>4.414982</td>\n",
       "      <td>841.0</td>\n",
       "      <td>630.0</td>\n",
       "      <td>26.5</td>\n",
       "      <td>55.0</td>\n",
       "      <td>33.6</td>\n",
       "      <td>99.6</td>\n",
       "      <td>777.0</td>\n",
       "      <td>158.0</td>\n",
       "    </tr>\n",
       "  </tbody>\n",
       "</table>\n",
       "</div>"
      ],
      "text/plain": [
       "                         name     prep          cook additional         total  \\\n",
       "1       Juicy Roasted Chicken  10 mins  1 hr 15 mins    15 mins  1 hr 40 mins   \n",
       "2   Microwave Corn on the Cob     None        5 mins       None        5 mins   \n",
       "3              French Toast I   5 mins       15 mins       None       20 mins   \n",
       "4     The Best Banana Pudding  25 mins          None       None       25 mins   \n",
       "5  Simple Macaroni and Cheese  10 mins       20 mins       None       30 mins   \n",
       "\n",
       "   servings                  yield  5 stars  4 stars  3 stars  2 stars  \\\n",
       "1         6             6 servings   3179.0    538.0    147.0     47.0   \n",
       "2         1              1 serving    382.0    102.0     29.0      5.0   \n",
       "3         3  6 slices french toast   1337.0    473.0     87.0     31.0   \n",
       "4        20            20 servings    830.0    117.0     30.0     15.0   \n",
       "5         4             4 servings    545.0    188.0     51.0     26.0   \n",
       "\n",
       "   1 stars                                          nutrition  \\\n",
       "1     42.0  423 calories; protein 30.9g; carbohydrates 1.2...   \n",
       "2      6.0  123 calories; protein 4.6g; carbohydrates 27.2...   \n",
       "3     29.0  240 calories; protein 10.6g; carbohydrates 33....   \n",
       "4     15.0  329 calories; protein 4.2g; carbohydrates 56.9...   \n",
       "5     31.0  630 calories; protein 26.5g; carbohydrates 55g...   \n",
       "\n",
       "                                         ingredients  recipe_score  \\\n",
       "1  1 (3 pound) whole chicken, giblets removed,sal...      4.711358   \n",
       "2                     1 ear corn, husked and cleaned      4.620229   \n",
       "3  6 thick slices bread,2  eggs,⅔ cup milk,¼ teas...      4.562596   \n",
       "4  1 (5 ounce) package instant vanilla pudding mi...      4.719960   \n",
       "5  1 (8 ounce) box elbow macaroni,¼ cup butter,¼ ...      4.414982   \n",
       "\n",
       "   number_of_reviews  calories  protein [g]  carbohydrates [g]  fat [g]  \\\n",
       "1             3953.0     423.0         30.9                1.2     32.1   \n",
       "2              524.0     123.0          4.6               27.2      1.7   \n",
       "3             1957.0     240.0         10.6               33.6      6.4   \n",
       "4             1007.0     329.0          4.2               56.9      9.6   \n",
       "5              841.0     630.0         26.5               55.0     33.6   \n",
       "\n",
       "   cholesterol [mg]  sodium [mg]  calories_per_serving  \n",
       "1              97.0        661.9                  71.0  \n",
       "2               NaN         21.5                 123.0  \n",
       "3             128.3        477.7                  80.0  \n",
       "4               8.6        205.2                  17.0  \n",
       "5              99.6        777.0                 158.0  "
      ]
     },
     "execution_count": 20,
     "metadata": {},
     "output_type": "execute_result"
    }
   ],
   "source": [
    "allrecipes_df.head()"
   ]
  },
  {
   "cell_type": "markdown",
   "metadata": {},
   "source": [
    "Not bad. Up until now everything seems to have worked out fine, however, there is still at least one issue that we have to deal with in this data-cleaning process. You might have noticed by now that data in the time-related columns is being stored as text values. This doesn’t allow any reliable quantitative analysis. Solution to this problem would be to convert the 'prep', 'cook', 'additional' and 'total' columns’ values to unified time measurement unit - minutes.\n",
    "\n",
    "We can achieve this by defining function convert_to_mins() and applying it to the mentioned columns, however, before it’s possible, we need to learn a little bit more about the data subset we’re working with. For that reason we are going to create a new data subset - df_time, that contains only the 'prep', 'cook', 'additional' and 'total' columns.\n",
    "\n",
    "First we need to check what are all possible configurations of time measurement units that occur in our four columns of interest. This means checking if time is expressed in minutes, hours, days or all at once. To verify what are the possible combinations, we will begin with putting all values from the 4 columns into one list. Next, we can make sure that we are left only with string values in the list and remove all digits. Finally, we can remove all duplicate values by converting the list to set."
   ]
  },
  {
   "cell_type": "code",
   "execution_count": 21,
   "metadata": {},
   "outputs": [
    {
     "data": {
      "text/plain": [
       "{' day', ' days', ' hr', ' hr  mins', ' hrs', ' hrs  mins', ' min', ' mins'}"
      ]
     },
     "execution_count": 21,
     "metadata": {},
     "output_type": "execute_result"
    }
   ],
   "source": [
    "df_time = allrecipes_df.loc[:, 'prep':'total']\n",
    "\n",
    "list_of_measures = list(df_time.loc[:, 'prep':'total'].values.T.ravel())\n",
    "\n",
    "list_of_measures = [x for x in list_of_measures if type(x) == str]\n",
    "\n",
    "list_of_measures = [''.join(x for x in i if not x.isdigit()) for i in list_of_measures]\n",
    "\n",
    "set(list_of_measures)"
   ]
  },
  {
   "cell_type": "markdown",
   "metadata": {},
   "source": [
    "The possible combinations are - 'day', 'days', 'hr', 'hr mins', ' hrs', 'hrs mins', 'min', 'mins'. With that information we can at last define our convert_to_mins() function. The function will first split the string into list of values. Afterwards, depending on the list length and its contents (combination of time units in the list) we apply appropriate logic to convert it all to minutes."
   ]
  },
  {
   "cell_type": "code",
   "execution_count": 22,
   "metadata": {},
   "outputs": [],
   "source": [
    "def convert_to_mins(x):\n",
    "    x = x.split()\n",
    "    if len(x) == 4:\n",
    "        x = [int(d) for d in x if d.isdigit()]\n",
    "        return (x[0] * 60 + x[1])\n",
    "    elif (len(x) == 2) and ('hr' in x or 'hrs' in x):\n",
    "        return int(x[0]) * 60\n",
    "    elif (len(x) == 2) and ('day' in x or 'days' in x):\n",
    "        return int(x[0]) * 3600\n",
    "    else:\n",
    "        return int(x[0])"
   ]
  },
  {
   "cell_type": "markdown",
   "metadata": {},
   "source": [
    "If the only time unit used is minutes, convert_to_mins() will just strip the non-digits and convert string to an integer without changing its value. In cases when days, hours or any other possible combination of time units occur, values are first converted to integers and multiplied to represent time in minutes.\n",
    "\n",
    "We can apply our newly-created function to the df_time columns. However, since the split() method cannot be applied to NaN values (and we have those in our dataset) we will have to match the function to string values only."
   ]
  },
  {
   "cell_type": "code",
   "execution_count": 23,
   "metadata": {},
   "outputs": [],
   "source": [
    "df_time.prep = df_time.prep.map(lambda x: convert_to_mins(x) if type(x) == str else x)\n",
    "df_time.cook = df_time.cook.map(lambda x: convert_to_mins(x) if type(x) == str else x)    \n",
    "df_time.additional = df_time.additional.map(lambda x: convert_to_mins(x) if type(x) == str else x)\n",
    "df_time.total = df_time.total.map(lambda x: convert_to_mins(x) if type(x) == str else x)"
   ]
  },
  {
   "cell_type": "markdown",
   "metadata": {},
   "source": [
    "First, we need to check if our calculations were correct. It is important that we fill out all null values with zeros, which would help us in the further part of this analysis. Then we can create a new Series ‘calc_verification’ containing sum of 'prep', 'cook' and 'additional' columns. Finally, we can check whether ‘total’ column of df_time is the same as calc_verification."
   ]
  },
  {
   "cell_type": "code",
   "execution_count": 24,
   "metadata": {},
   "outputs": [
    {
     "data": {
      "text/plain": [
       "False"
      ]
     },
     "execution_count": 24,
     "metadata": {},
     "output_type": "execute_result"
    }
   ],
   "source": [
    "df_time.fillna(0, inplace = True)\n",
    "\n",
    "calc_verification = df_time.loc[:, 'prep':'additional'].sum(axis = 1, skipna = True)\n",
    "\n",
    "df_time['total'].equals(calc_verification)"
   ]
  },
  {
   "cell_type": "markdown",
   "metadata": {},
   "source": [
    "Turns out they are not equal. It seems that there was a mistake in our calculations. To see which fields of ‘total’ column and calc_verification Series are not matching, we will create a bumpy array  ‘diff’. It will contain series of 1s and 0s representing whether values match or not. Afterwards, we can subset the df_time with diff to see the problematic records."
   ]
  },
  {
   "cell_type": "code",
   "execution_count": 25,
   "metadata": {},
   "outputs": [
    {
     "data": {
      "text/html": [
       "<div>\n",
       "<style scoped>\n",
       "    .dataframe tbody tr th:only-of-type {\n",
       "        vertical-align: middle;\n",
       "    }\n",
       "\n",
       "    .dataframe tbody tr th {\n",
       "        vertical-align: top;\n",
       "    }\n",
       "\n",
       "    .dataframe thead th {\n",
       "        text-align: right;\n",
       "    }\n",
       "</style>\n",
       "<table border=\"1\" class=\"dataframe\">\n",
       "  <thead>\n",
       "    <tr style=\"text-align: right;\">\n",
       "      <th></th>\n",
       "      <th>prep</th>\n",
       "      <th>cook</th>\n",
       "      <th>additional</th>\n",
       "      <th>total</th>\n",
       "    </tr>\n",
       "  </thead>\n",
       "  <tbody>\n",
       "    <tr>\n",
       "      <th>159</th>\n",
       "      <td>20.0</td>\n",
       "      <td>10.0</td>\n",
       "      <td>3600.0</td>\n",
       "      <td>3600.0</td>\n",
       "    </tr>\n",
       "    <tr>\n",
       "      <th>288</th>\n",
       "      <td>20.0</td>\n",
       "      <td>10.0</td>\n",
       "      <td>3600.0</td>\n",
       "      <td>3600.0</td>\n",
       "    </tr>\n",
       "    <tr>\n",
       "      <th>818</th>\n",
       "      <td>10.0</td>\n",
       "      <td>15.0</td>\n",
       "      <td>10800.0</td>\n",
       "      <td>10800.0</td>\n",
       "    </tr>\n",
       "    <tr>\n",
       "      <th>844</th>\n",
       "      <td>5.0</td>\n",
       "      <td>0.0</td>\n",
       "      <td>7200.0</td>\n",
       "      <td>7200.0</td>\n",
       "    </tr>\n",
       "  </tbody>\n",
       "</table>\n",
       "</div>"
      ],
      "text/plain": [
       "     prep  cook  additional    total\n",
       "159  20.0  10.0      3600.0   3600.0\n",
       "288  20.0  10.0      3600.0   3600.0\n",
       "818  10.0  15.0     10800.0  10800.0\n",
       "844   5.0   0.0      7200.0   7200.0"
      ]
     },
     "execution_count": 25,
     "metadata": {},
     "output_type": "execute_result"
    }
   ],
   "source": [
    "diff = np.where( df_time['total'] == calc_verification , 1, 0)\n",
    "\n",
    "df_time[diff == 0]"
   ]
  },
  {
   "cell_type": "markdown",
   "metadata": {},
   "source": [
    "So the problematic records are in rows 159, 288, 818 and 844. It seems that whenever days were used as a measurement of time, the 'prep' and 'cook' were not added in the 'total' column's value. It looks like we haven't made a mistake after all but fallen victim of certain data simplification at the source. We could leave those data inconsistencies in the dataset but since those are only 4 records, we can as well update the values manually."
   ]
  },
  {
   "cell_type": "code",
   "execution_count": 26,
   "metadata": {},
   "outputs": [],
   "source": [
    "df_time.at[159, 'total'] = 3630.00\n",
    "df_time.at[288, 'total'] = 3630.00\n",
    "df_time.at[818, 'total'] = 10825.00\n",
    "df_time.at[844, 'total'] = 7205.00"
   ]
  },
  {
   "cell_type": "markdown",
   "metadata": {},
   "source": [
    "Let's once again check whether all the values in df_time[‘total’] and ‘calc_verification’ are the same."
   ]
  },
  {
   "cell_type": "code",
   "execution_count": 27,
   "metadata": {},
   "outputs": [
    {
     "data": {
      "text/plain": [
       "True"
      ]
     },
     "execution_count": 27,
     "metadata": {},
     "output_type": "execute_result"
    }
   ],
   "source": [
    "df_time['total'].equals(calc_verification)"
   ]
  },
  {
   "cell_type": "markdown",
   "metadata": {},
   "source": [
    "Looks like it worked out right. Now we can substitute time-related data in the original dataframe - allrecipes_df with data from df_time. However, beforehand, we should convert all 0 back to null values to avoid any future inaccuracies."
   ]
  },
  {
   "cell_type": "code",
   "execution_count": 28,
   "metadata": {},
   "outputs": [],
   "source": [
    "df_time.replace(0, np.nan, inplace=True)\n",
    "\n",
    "allrecipes_df.loc[:, 'prep':'total'] = df_time"
   ]
  },
  {
   "cell_type": "markdown",
   "metadata": {},
   "source": [
    "We have successfully converted time-related data to numerical values. Let’s have a look at our data right now."
   ]
  },
  {
   "cell_type": "code",
   "execution_count": 29,
   "metadata": {},
   "outputs": [
    {
     "data": {
      "text/html": [
       "<div>\n",
       "<style scoped>\n",
       "    .dataframe tbody tr th:only-of-type {\n",
       "        vertical-align: middle;\n",
       "    }\n",
       "\n",
       "    .dataframe tbody tr th {\n",
       "        vertical-align: top;\n",
       "    }\n",
       "\n",
       "    .dataframe thead th {\n",
       "        text-align: right;\n",
       "    }\n",
       "</style>\n",
       "<table border=\"1\" class=\"dataframe\">\n",
       "  <thead>\n",
       "    <tr style=\"text-align: right;\">\n",
       "      <th></th>\n",
       "      <th>name</th>\n",
       "      <th>prep</th>\n",
       "      <th>cook</th>\n",
       "      <th>additional</th>\n",
       "      <th>total</th>\n",
       "      <th>servings</th>\n",
       "      <th>yield</th>\n",
       "      <th>5 stars</th>\n",
       "      <th>4 stars</th>\n",
       "      <th>3 stars</th>\n",
       "      <th>2 stars</th>\n",
       "      <th>1 stars</th>\n",
       "      <th>nutrition</th>\n",
       "      <th>ingredients</th>\n",
       "      <th>recipe_score</th>\n",
       "      <th>number_of_reviews</th>\n",
       "      <th>calories</th>\n",
       "      <th>protein [g]</th>\n",
       "      <th>carbohydrates [g]</th>\n",
       "      <th>fat [g]</th>\n",
       "      <th>cholesterol [mg]</th>\n",
       "      <th>sodium [mg]</th>\n",
       "      <th>calories_per_serving</th>\n",
       "    </tr>\n",
       "  </thead>\n",
       "  <tbody>\n",
       "    <tr>\n",
       "      <th>1</th>\n",
       "      <td>Juicy Roasted Chicken</td>\n",
       "      <td>10.0</td>\n",
       "      <td>75.0</td>\n",
       "      <td>15.0</td>\n",
       "      <td>100.0</td>\n",
       "      <td>6</td>\n",
       "      <td>6 servings</td>\n",
       "      <td>3179.0</td>\n",
       "      <td>538.0</td>\n",
       "      <td>147.0</td>\n",
       "      <td>47.0</td>\n",
       "      <td>42.0</td>\n",
       "      <td>423 calories; protein 30.9g; carbohydrates 1.2...</td>\n",
       "      <td>1 (3 pound) whole chicken, giblets removed,sal...</td>\n",
       "      <td>4.711358</td>\n",
       "      <td>3953.0</td>\n",
       "      <td>423.0</td>\n",
       "      <td>30.9</td>\n",
       "      <td>1.2</td>\n",
       "      <td>32.1</td>\n",
       "      <td>97.0</td>\n",
       "      <td>661.9</td>\n",
       "      <td>71.0</td>\n",
       "    </tr>\n",
       "    <tr>\n",
       "      <th>2</th>\n",
       "      <td>Microwave Corn on the Cob</td>\n",
       "      <td>NaN</td>\n",
       "      <td>5.0</td>\n",
       "      <td>NaN</td>\n",
       "      <td>5.0</td>\n",
       "      <td>1</td>\n",
       "      <td>1 serving</td>\n",
       "      <td>382.0</td>\n",
       "      <td>102.0</td>\n",
       "      <td>29.0</td>\n",
       "      <td>5.0</td>\n",
       "      <td>6.0</td>\n",
       "      <td>123 calories; protein 4.6g; carbohydrates 27.2...</td>\n",
       "      <td>1 ear corn, husked and cleaned</td>\n",
       "      <td>4.620229</td>\n",
       "      <td>524.0</td>\n",
       "      <td>123.0</td>\n",
       "      <td>4.6</td>\n",
       "      <td>27.2</td>\n",
       "      <td>1.7</td>\n",
       "      <td>NaN</td>\n",
       "      <td>21.5</td>\n",
       "      <td>123.0</td>\n",
       "    </tr>\n",
       "    <tr>\n",
       "      <th>3</th>\n",
       "      <td>French Toast I</td>\n",
       "      <td>5.0</td>\n",
       "      <td>15.0</td>\n",
       "      <td>NaN</td>\n",
       "      <td>20.0</td>\n",
       "      <td>3</td>\n",
       "      <td>6 slices french toast</td>\n",
       "      <td>1337.0</td>\n",
       "      <td>473.0</td>\n",
       "      <td>87.0</td>\n",
       "      <td>31.0</td>\n",
       "      <td>29.0</td>\n",
       "      <td>240 calories; protein 10.6g; carbohydrates 33....</td>\n",
       "      <td>6 thick slices bread,2  eggs,⅔ cup milk,¼ teas...</td>\n",
       "      <td>4.562596</td>\n",
       "      <td>1957.0</td>\n",
       "      <td>240.0</td>\n",
       "      <td>10.6</td>\n",
       "      <td>33.6</td>\n",
       "      <td>6.4</td>\n",
       "      <td>128.3</td>\n",
       "      <td>477.7</td>\n",
       "      <td>80.0</td>\n",
       "    </tr>\n",
       "    <tr>\n",
       "      <th>4</th>\n",
       "      <td>The Best Banana Pudding</td>\n",
       "      <td>25.0</td>\n",
       "      <td>NaN</td>\n",
       "      <td>NaN</td>\n",
       "      <td>25.0</td>\n",
       "      <td>20</td>\n",
       "      <td>20 servings</td>\n",
       "      <td>830.0</td>\n",
       "      <td>117.0</td>\n",
       "      <td>30.0</td>\n",
       "      <td>15.0</td>\n",
       "      <td>15.0</td>\n",
       "      <td>329 calories; protein 4.2g; carbohydrates 56.9...</td>\n",
       "      <td>1 (5 ounce) package instant vanilla pudding mi...</td>\n",
       "      <td>4.719960</td>\n",
       "      <td>1007.0</td>\n",
       "      <td>329.0</td>\n",
       "      <td>4.2</td>\n",
       "      <td>56.9</td>\n",
       "      <td>9.6</td>\n",
       "      <td>8.6</td>\n",
       "      <td>205.2</td>\n",
       "      <td>17.0</td>\n",
       "    </tr>\n",
       "    <tr>\n",
       "      <th>5</th>\n",
       "      <td>Simple Macaroni and Cheese</td>\n",
       "      <td>10.0</td>\n",
       "      <td>20.0</td>\n",
       "      <td>NaN</td>\n",
       "      <td>30.0</td>\n",
       "      <td>4</td>\n",
       "      <td>4 servings</td>\n",
       "      <td>545.0</td>\n",
       "      <td>188.0</td>\n",
       "      <td>51.0</td>\n",
       "      <td>26.0</td>\n",
       "      <td>31.0</td>\n",
       "      <td>630 calories; protein 26.5g; carbohydrates 55g...</td>\n",
       "      <td>1 (8 ounce) box elbow macaroni,¼ cup butter,¼ ...</td>\n",
       "      <td>4.414982</td>\n",
       "      <td>841.0</td>\n",
       "      <td>630.0</td>\n",
       "      <td>26.5</td>\n",
       "      <td>55.0</td>\n",
       "      <td>33.6</td>\n",
       "      <td>99.6</td>\n",
       "      <td>777.0</td>\n",
       "      <td>158.0</td>\n",
       "    </tr>\n",
       "  </tbody>\n",
       "</table>\n",
       "</div>"
      ],
      "text/plain": [
       "                         name  prep  cook  additional  total  servings  \\\n",
       "1       Juicy Roasted Chicken  10.0  75.0        15.0  100.0         6   \n",
       "2   Microwave Corn on the Cob   NaN   5.0         NaN    5.0         1   \n",
       "3              French Toast I   5.0  15.0         NaN   20.0         3   \n",
       "4     The Best Banana Pudding  25.0   NaN         NaN   25.0        20   \n",
       "5  Simple Macaroni and Cheese  10.0  20.0         NaN   30.0         4   \n",
       "\n",
       "                   yield  5 stars  4 stars  3 stars  2 stars  1 stars  \\\n",
       "1             6 servings   3179.0    538.0    147.0     47.0     42.0   \n",
       "2              1 serving    382.0    102.0     29.0      5.0      6.0   \n",
       "3  6 slices french toast   1337.0    473.0     87.0     31.0     29.0   \n",
       "4            20 servings    830.0    117.0     30.0     15.0     15.0   \n",
       "5             4 servings    545.0    188.0     51.0     26.0     31.0   \n",
       "\n",
       "                                           nutrition  \\\n",
       "1  423 calories; protein 30.9g; carbohydrates 1.2...   \n",
       "2  123 calories; protein 4.6g; carbohydrates 27.2...   \n",
       "3  240 calories; protein 10.6g; carbohydrates 33....   \n",
       "4  329 calories; protein 4.2g; carbohydrates 56.9...   \n",
       "5  630 calories; protein 26.5g; carbohydrates 55g...   \n",
       "\n",
       "                                         ingredients  recipe_score  \\\n",
       "1  1 (3 pound) whole chicken, giblets removed,sal...      4.711358   \n",
       "2                     1 ear corn, husked and cleaned      4.620229   \n",
       "3  6 thick slices bread,2  eggs,⅔ cup milk,¼ teas...      4.562596   \n",
       "4  1 (5 ounce) package instant vanilla pudding mi...      4.719960   \n",
       "5  1 (8 ounce) box elbow macaroni,¼ cup butter,¼ ...      4.414982   \n",
       "\n",
       "   number_of_reviews  calories  protein [g]  carbohydrates [g]  fat [g]  \\\n",
       "1             3953.0     423.0         30.9                1.2     32.1   \n",
       "2              524.0     123.0          4.6               27.2      1.7   \n",
       "3             1957.0     240.0         10.6               33.6      6.4   \n",
       "4             1007.0     329.0          4.2               56.9      9.6   \n",
       "5              841.0     630.0         26.5               55.0     33.6   \n",
       "\n",
       "   cholesterol [mg]  sodium [mg]  calories_per_serving  \n",
       "1              97.0        661.9                  71.0  \n",
       "2               NaN         21.5                 123.0  \n",
       "3             128.3        477.7                  80.0  \n",
       "4               8.6        205.2                  17.0  \n",
       "5              99.6        777.0                 158.0  "
      ]
     },
     "execution_count": 29,
     "metadata": {},
     "output_type": "execute_result"
    }
   ],
   "source": [
    "allrecipes_df.head()"
   ]
  },
  {
   "cell_type": "markdown",
   "metadata": {},
   "source": [
    "Up until this point we have been working solely on data collected from allrecipes.com. There is no doubt that there are a lot of insights to be gathered from that data alone. However, we can enrich this dataset even further.\n",
    "\n",
    "I’ve decided to compile a list of herbs from Encyclopedia Britannica, which is available in the herbs_britannica.txt file within the directory. In the next few steps we will create a number of columns representing whether a herb appear in a recipe or not. \n",
    "\n",
    "The steps we will follow could be used to supplement dataset with information not only about herbs, but virtually all other categories of ingredients. In this case, however, we will limit the scope of newly added data for it is only to show a certain proof of concept.\n",
    "\n",
    "We will begin with importing the list of herbs from herbs_britannica.txt and performing some basic string formatting to clean the data."
   ]
  },
  {
   "cell_type": "code",
   "execution_count": 30,
   "metadata": {},
   "outputs": [],
   "source": [
    "with open('herbs_britannica.txt', 'r') as file:\n",
    "    file_content = file.read()\n",
    "    herbs = file_content.split('\\n')\n",
    "    herbs = [item.lower().strip() for item in herbs]\n",
    "    herbs = list(set(herbs))\n",
    "    herbs.remove('')"
   ]
  },
  {
   "cell_type": "markdown",
   "metadata": {},
   "source": [
    "The outcome of that operation is a list of well-formatted herbs’ names. Next step is to create a create_ingredient_column() function that we can supply with a herb’s name and it creates a new column in allrecipes_df representing with 1s and 0s whether recipe contain a particular herb."
   ]
  },
  {
   "cell_type": "code",
   "execution_count": 74,
   "metadata": {},
   "outputs": [],
   "source": [
    "def create_ingredient_column(ingredient_name):\n",
    "    ingredient = str(ingredient_name)\n",
    "    allrecipes_df[ingredient] = np.where(allrecipes_df['ingredients'].str.find(ingredient) != -1, 1, 0)"
   ]
  },
  {
   "cell_type": "markdown",
   "metadata": {},
   "source": [
    "Now that we have defined our function, we can iterate over the list of herbs and supply create_ingredient_column() function with herbs’ names one by one."
   ]
  },
  {
   "cell_type": "code",
   "execution_count": 42,
   "metadata": {},
   "outputs": [],
   "source": [
    "for herb in herbs:\n",
    "    create_ingredient_column(herb)"
   ]
  },
  {
   "cell_type": "markdown",
   "metadata": {},
   "source": [
    "At this point it would be nice to check which herbs didn’t occur in any of the recipes. To check how many herbs like that we have, we can count the number of columns in which all values equals to 0. We will also check how many columns with 0s and 1s exist in our dataset as well. We will show how this issue can be approached in two different ways. First is more of a custom one and the second utilises pandas capabilities to higher extend."
   ]
  },
  {
   "cell_type": "code",
   "execution_count": 33,
   "metadata": {},
   "outputs": [
    {
     "name": "stdout",
     "output_type": "stream",
     "text": [
      "{'[0]': 39, '[0 1]': 45, '[1 0]': 1}\n"
     ]
    }
   ],
   "source": [
    "count_of_herbs_columns = {}\n",
    "\n",
    "for column in allrecipes_df.columns:\n",
    "    if column in herbs:\n",
    "        value_counts = np.array2string(allrecipes_df[column].value_counts().index.values)\n",
    "        if value_counts not in count_of_herbs_columns.keys():\n",
    "            count_of_herbs_columns[value_counts] = 1\n",
    "        else:\n",
    "            count_of_herbs_columns[value_counts] += 1\n",
    "\n",
    "print (count_of_herbs_columns)"
   ]
  },
  {
   "cell_type": "markdown",
   "metadata": {},
   "source": [
    "And here is maybe a bit more intuitive way to achieve similar result."
   ]
  },
  {
   "cell_type": "code",
   "execution_count": 48,
   "metadata": {},
   "outputs": [
    {
     "data": {
      "text/plain": [
       "0      39\n",
       "1       8\n",
       "3       5\n",
       "2       4\n",
       "5       4\n",
       "68      2\n",
       "7       2\n",
       "36      1\n",
       "6       1\n",
       "16      1\n",
       "19      1\n",
       "23      1\n",
       "26      1\n",
       "28      1\n",
       "509     1\n",
       "124     1\n",
       "41      1\n",
       "45      1\n",
       "182     1\n",
       "61      1\n",
       "62      1\n",
       "66      1\n",
       "325     1\n",
       "73      1\n",
       "346     1\n",
       "69      1\n",
       "54      1\n",
       "37      1\n",
       "dtype: int64"
      ]
     },
     "execution_count": 48,
     "metadata": {},
     "output_type": "execute_result"
    }
   ],
   "source": [
    "allrecipes_df.loc[:, 'cinnamon':'wasabi'].sum().value_counts()"
   ]
  },
  {
   "cell_type": "markdown",
   "metadata": {},
   "source": [
    "There are 39 herbs which doesn't exist in any recipe and none that would occur in all of them. We can then assume that 46 herb-related columns can be of any use to us. Considering that, in the next step we will remove all herb-related columns where all values equals to 0 from the dataset."
   ]
  },
  {
   "cell_type": "code",
   "execution_count": 53,
   "metadata": {},
   "outputs": [],
   "source": [
    "nunique = allrecipes_df.nunique()\n",
    "columns_to_drop = nunique[nunique == 1].index\n",
    "allrecipes_df = allrecipes_df.drop(columns_to_drop, axis=1)"
   ]
  },
  {
   "cell_type": "markdown",
   "metadata": {},
   "source": [
    "Let’s check to what extend have remaining herbs been used in our recipes."
   ]
  },
  {
   "cell_type": "code",
   "execution_count": 72,
   "metadata": {},
   "outputs": [
    {
     "name": "stdout",
     "output_type": "stream",
     "text": [
      "{'cinnamon': 66, 'celery': 61, 'pepper': 509, 'garlic': 346, 'cilantro': 36, 'black pepper': 325, 'parsley': 68, 'vanilla': 124, 'sage': 26, 'rosemary': 23, 'oregano': 68, 'thyme': 41, 'cayenne pepper': 69, 'sesame': 28, 'clove': 182, 'cumin': 45, 'ginger': 37, 'basil': 54, 'paprika': 73, 'mustard': 62, 'anise': 3, 'coriander': 3, 'mint': 3, 'nutmeg': 16, 'chili pepper': 1, 'celery seed': 6, 'turmeric': 2, 'curry': 7, 'star anise': 1, 'dill': 19, 'savory': 1, 'bay leaf': 7, 'allspice': 3, 'chives': 5, 'plantain': 1, 'horseradish': 2, 'marjoram': 5, 'dandelion': 1, 'poppy seed': 5, 'mace': 1, 'tarragon': 5, 'fennel': 2, 'brown mustard': 2, 'lemon grass': 1, 'cardamom': 3, 'wasabi': 1}\n",
      "\n",
      " [1, 1, 1, 1, 1, 1, 1, 1, 2, 2, 2, 2, 3, 3, 3, 3, 3, 5, 5, 5, 5, 6, 7, 7, 16, 19, 23, 26, 28, 36, 37, 41, 45, 54, 61, 62, 66, 68, 68, 69, 73, 124, 182, 325, 346, 509]\n"
     ]
    }
   ],
   "source": [
    "ingr_sum_dict = {}\n",
    "\n",
    "for column in allrecipes_df.columns:\n",
    "    if column in herbs:\n",
    "        ingr_sum_dict[column] = allrecipes_df[column].sum()\n",
    "\n",
    "print(ingr_sum_dict)\n",
    "print('\\n', sorted(ingr_sum_dict.values()))"
   ]
  },
  {
   "cell_type": "markdown",
   "metadata": {},
   "source": [
    "We can set a threshold of let’s say 20 and check which herbs have been used at least that many times."
   ]
  },
  {
   "cell_type": "code",
   "execution_count": 73,
   "metadata": {},
   "outputs": [
    {
     "name": "stdout",
     "output_type": "stream",
     "text": [
      "{'cinnamon': 66, 'celery': 61, 'pepper': 509, 'garlic': 346, 'cilantro': 36, 'black pepper': 325, 'parsley': 68, 'vanilla': 124, 'sage': 26, 'rosemary': 23, 'oregano': 68, 'thyme': 41, 'cayenne pepper': 69, 'sesame': 28, 'clove': 182, 'cumin': 45, 'ginger': 37, 'basil': 54, 'paprika': 73, 'mustard': 62}\n"
     ]
    }
   ],
   "source": [
    "filtered_ingr_sum_dict =  {key: value for (key, value) in ingr_sum_dict.items() if value >= 20}\n",
    "print(filtered_ingr_sum_dict)"
   ]
  },
  {
   "cell_type": "markdown",
   "metadata": {},
   "source": [
    "There are quite a few left. If a herb hasn’t occurred in at least 20 recipes (this threshold is arbitrary) it will be of a limited value to us in the further analysis. This means that we can remove the irrelevant columns from the dataset. "
   ]
  },
  {
   "cell_type": "code",
   "execution_count": 37,
   "metadata": {},
   "outputs": [],
   "source": [
    "for column in allrecipes_df.columns:    \n",
    "    if (column in herbs) and (column not in list(filtered_ingr_sum_dict.keys())):\n",
    "        allrecipes_df.drop(labels = column, axis = 1, inplace = True)"
   ]
  },
  {
   "cell_type": "markdown",
   "metadata": {},
   "source": [
    "Across this whole process of preparing data, we have fixed formatting, splitter and merged data, converted data types and created sets of totally new data points. We can now print the final result of this all."
   ]
  },
  {
   "cell_type": "code",
   "execution_count": 38,
   "metadata": {},
   "outputs": [
    {
     "data": {
      "text/html": [
       "<div>\n",
       "<style scoped>\n",
       "    .dataframe tbody tr th:only-of-type {\n",
       "        vertical-align: middle;\n",
       "    }\n",
       "\n",
       "    .dataframe tbody tr th {\n",
       "        vertical-align: top;\n",
       "    }\n",
       "\n",
       "    .dataframe thead th {\n",
       "        text-align: right;\n",
       "    }\n",
       "</style>\n",
       "<table border=\"1\" class=\"dataframe\">\n",
       "  <thead>\n",
       "    <tr style=\"text-align: right;\">\n",
       "      <th></th>\n",
       "      <th>name</th>\n",
       "      <th>prep</th>\n",
       "      <th>cook</th>\n",
       "      <th>additional</th>\n",
       "      <th>total</th>\n",
       "      <th>servings</th>\n",
       "      <th>yield</th>\n",
       "      <th>5 stars</th>\n",
       "      <th>4 stars</th>\n",
       "      <th>3 stars</th>\n",
       "      <th>2 stars</th>\n",
       "      <th>1 stars</th>\n",
       "      <th>nutrition</th>\n",
       "      <th>ingredients</th>\n",
       "      <th>recipe_score</th>\n",
       "      <th>number_of_reviews</th>\n",
       "      <th>calories</th>\n",
       "      <th>protein [g]</th>\n",
       "      <th>carbohydrates [g]</th>\n",
       "      <th>fat [g]</th>\n",
       "      <th>cholesterol [mg]</th>\n",
       "      <th>sodium [mg]</th>\n",
       "      <th>calories_per_serving</th>\n",
       "      <th>cinnamon</th>\n",
       "      <th>celery</th>\n",
       "      <th>pepper</th>\n",
       "      <th>garlic</th>\n",
       "      <th>cilantro</th>\n",
       "      <th>black pepper</th>\n",
       "      <th>parsley</th>\n",
       "      <th>vanilla</th>\n",
       "      <th>sage</th>\n",
       "      <th>rosemary</th>\n",
       "      <th>oregano</th>\n",
       "      <th>thyme</th>\n",
       "      <th>cayenne pepper</th>\n",
       "      <th>sesame</th>\n",
       "      <th>clove</th>\n",
       "      <th>cumin</th>\n",
       "      <th>ginger</th>\n",
       "      <th>basil</th>\n",
       "      <th>paprika</th>\n",
       "      <th>mustard</th>\n",
       "    </tr>\n",
       "  </thead>\n",
       "  <tbody>\n",
       "    <tr>\n",
       "      <th>1</th>\n",
       "      <td>Juicy Roasted Chicken</td>\n",
       "      <td>10.0</td>\n",
       "      <td>75.0</td>\n",
       "      <td>15.0</td>\n",
       "      <td>100.0</td>\n",
       "      <td>6</td>\n",
       "      <td>6 servings</td>\n",
       "      <td>3179.0</td>\n",
       "      <td>538.0</td>\n",
       "      <td>147.0</td>\n",
       "      <td>47.0</td>\n",
       "      <td>42.0</td>\n",
       "      <td>423 calories; protein 30.9g; carbohydrates 1.2...</td>\n",
       "      <td>1 (3 pound) whole chicken, giblets removed,sal...</td>\n",
       "      <td>4.711358</td>\n",
       "      <td>3953.0</td>\n",
       "      <td>423.0</td>\n",
       "      <td>30.9</td>\n",
       "      <td>1.2</td>\n",
       "      <td>32.1</td>\n",
       "      <td>97.0</td>\n",
       "      <td>661.9</td>\n",
       "      <td>71.0</td>\n",
       "      <td>0</td>\n",
       "      <td>1</td>\n",
       "      <td>1</td>\n",
       "      <td>0</td>\n",
       "      <td>0</td>\n",
       "      <td>1</td>\n",
       "      <td>0</td>\n",
       "      <td>0</td>\n",
       "      <td>0</td>\n",
       "      <td>0</td>\n",
       "      <td>0</td>\n",
       "      <td>0</td>\n",
       "      <td>0</td>\n",
       "      <td>0</td>\n",
       "      <td>0</td>\n",
       "      <td>0</td>\n",
       "      <td>0</td>\n",
       "      <td>0</td>\n",
       "      <td>0</td>\n",
       "      <td>0</td>\n",
       "    </tr>\n",
       "    <tr>\n",
       "      <th>2</th>\n",
       "      <td>Microwave Corn on the Cob</td>\n",
       "      <td>NaN</td>\n",
       "      <td>5.0</td>\n",
       "      <td>NaN</td>\n",
       "      <td>5.0</td>\n",
       "      <td>1</td>\n",
       "      <td>1 serving</td>\n",
       "      <td>382.0</td>\n",
       "      <td>102.0</td>\n",
       "      <td>29.0</td>\n",
       "      <td>5.0</td>\n",
       "      <td>6.0</td>\n",
       "      <td>123 calories; protein 4.6g; carbohydrates 27.2...</td>\n",
       "      <td>1 ear corn, husked and cleaned</td>\n",
       "      <td>4.620229</td>\n",
       "      <td>524.0</td>\n",
       "      <td>123.0</td>\n",
       "      <td>4.6</td>\n",
       "      <td>27.2</td>\n",
       "      <td>1.7</td>\n",
       "      <td>NaN</td>\n",
       "      <td>21.5</td>\n",
       "      <td>123.0</td>\n",
       "      <td>0</td>\n",
       "      <td>0</td>\n",
       "      <td>0</td>\n",
       "      <td>0</td>\n",
       "      <td>0</td>\n",
       "      <td>0</td>\n",
       "      <td>0</td>\n",
       "      <td>0</td>\n",
       "      <td>0</td>\n",
       "      <td>0</td>\n",
       "      <td>0</td>\n",
       "      <td>0</td>\n",
       "      <td>0</td>\n",
       "      <td>0</td>\n",
       "      <td>0</td>\n",
       "      <td>0</td>\n",
       "      <td>0</td>\n",
       "      <td>0</td>\n",
       "      <td>0</td>\n",
       "      <td>0</td>\n",
       "    </tr>\n",
       "    <tr>\n",
       "      <th>3</th>\n",
       "      <td>French Toast I</td>\n",
       "      <td>5.0</td>\n",
       "      <td>15.0</td>\n",
       "      <td>NaN</td>\n",
       "      <td>20.0</td>\n",
       "      <td>3</td>\n",
       "      <td>6 slices french toast</td>\n",
       "      <td>1337.0</td>\n",
       "      <td>473.0</td>\n",
       "      <td>87.0</td>\n",
       "      <td>31.0</td>\n",
       "      <td>29.0</td>\n",
       "      <td>240 calories; protein 10.6g; carbohydrates 33....</td>\n",
       "      <td>6 thick slices bread,2  eggs,⅔ cup milk,¼ teas...</td>\n",
       "      <td>4.562596</td>\n",
       "      <td>1957.0</td>\n",
       "      <td>240.0</td>\n",
       "      <td>10.6</td>\n",
       "      <td>33.6</td>\n",
       "      <td>6.4</td>\n",
       "      <td>128.3</td>\n",
       "      <td>477.7</td>\n",
       "      <td>80.0</td>\n",
       "      <td>1</td>\n",
       "      <td>0</td>\n",
       "      <td>0</td>\n",
       "      <td>0</td>\n",
       "      <td>0</td>\n",
       "      <td>0</td>\n",
       "      <td>0</td>\n",
       "      <td>1</td>\n",
       "      <td>0</td>\n",
       "      <td>0</td>\n",
       "      <td>0</td>\n",
       "      <td>0</td>\n",
       "      <td>0</td>\n",
       "      <td>0</td>\n",
       "      <td>0</td>\n",
       "      <td>0</td>\n",
       "      <td>0</td>\n",
       "      <td>0</td>\n",
       "      <td>0</td>\n",
       "      <td>0</td>\n",
       "    </tr>\n",
       "    <tr>\n",
       "      <th>4</th>\n",
       "      <td>The Best Banana Pudding</td>\n",
       "      <td>25.0</td>\n",
       "      <td>NaN</td>\n",
       "      <td>NaN</td>\n",
       "      <td>25.0</td>\n",
       "      <td>20</td>\n",
       "      <td>20 servings</td>\n",
       "      <td>830.0</td>\n",
       "      <td>117.0</td>\n",
       "      <td>30.0</td>\n",
       "      <td>15.0</td>\n",
       "      <td>15.0</td>\n",
       "      <td>329 calories; protein 4.2g; carbohydrates 56.9...</td>\n",
       "      <td>1 (5 ounce) package instant vanilla pudding mi...</td>\n",
       "      <td>4.719960</td>\n",
       "      <td>1007.0</td>\n",
       "      <td>329.0</td>\n",
       "      <td>4.2</td>\n",
       "      <td>56.9</td>\n",
       "      <td>9.6</td>\n",
       "      <td>8.6</td>\n",
       "      <td>205.2</td>\n",
       "      <td>17.0</td>\n",
       "      <td>0</td>\n",
       "      <td>0</td>\n",
       "      <td>0</td>\n",
       "      <td>0</td>\n",
       "      <td>0</td>\n",
       "      <td>0</td>\n",
       "      <td>0</td>\n",
       "      <td>1</td>\n",
       "      <td>0</td>\n",
       "      <td>0</td>\n",
       "      <td>0</td>\n",
       "      <td>0</td>\n",
       "      <td>0</td>\n",
       "      <td>0</td>\n",
       "      <td>0</td>\n",
       "      <td>0</td>\n",
       "      <td>0</td>\n",
       "      <td>0</td>\n",
       "      <td>0</td>\n",
       "      <td>0</td>\n",
       "    </tr>\n",
       "    <tr>\n",
       "      <th>5</th>\n",
       "      <td>Simple Macaroni and Cheese</td>\n",
       "      <td>10.0</td>\n",
       "      <td>20.0</td>\n",
       "      <td>NaN</td>\n",
       "      <td>30.0</td>\n",
       "      <td>4</td>\n",
       "      <td>4 servings</td>\n",
       "      <td>545.0</td>\n",
       "      <td>188.0</td>\n",
       "      <td>51.0</td>\n",
       "      <td>26.0</td>\n",
       "      <td>31.0</td>\n",
       "      <td>630 calories; protein 26.5g; carbohydrates 55g...</td>\n",
       "      <td>1 (8 ounce) box elbow macaroni,¼ cup butter,¼ ...</td>\n",
       "      <td>4.414982</td>\n",
       "      <td>841.0</td>\n",
       "      <td>630.0</td>\n",
       "      <td>26.5</td>\n",
       "      <td>55.0</td>\n",
       "      <td>33.6</td>\n",
       "      <td>99.6</td>\n",
       "      <td>777.0</td>\n",
       "      <td>158.0</td>\n",
       "      <td>0</td>\n",
       "      <td>0</td>\n",
       "      <td>1</td>\n",
       "      <td>0</td>\n",
       "      <td>0</td>\n",
       "      <td>1</td>\n",
       "      <td>0</td>\n",
       "      <td>0</td>\n",
       "      <td>0</td>\n",
       "      <td>0</td>\n",
       "      <td>0</td>\n",
       "      <td>0</td>\n",
       "      <td>0</td>\n",
       "      <td>0</td>\n",
       "      <td>0</td>\n",
       "      <td>0</td>\n",
       "      <td>0</td>\n",
       "      <td>0</td>\n",
       "      <td>0</td>\n",
       "      <td>0</td>\n",
       "    </tr>\n",
       "  </tbody>\n",
       "</table>\n",
       "</div>"
      ],
      "text/plain": [
       "                         name  prep  cook  additional  total  servings  \\\n",
       "1       Juicy Roasted Chicken  10.0  75.0        15.0  100.0         6   \n",
       "2   Microwave Corn on the Cob   NaN   5.0         NaN    5.0         1   \n",
       "3              French Toast I   5.0  15.0         NaN   20.0         3   \n",
       "4     The Best Banana Pudding  25.0   NaN         NaN   25.0        20   \n",
       "5  Simple Macaroni and Cheese  10.0  20.0         NaN   30.0         4   \n",
       "\n",
       "                   yield  5 stars  4 stars  3 stars  2 stars  1 stars  \\\n",
       "1             6 servings   3179.0    538.0    147.0     47.0     42.0   \n",
       "2              1 serving    382.0    102.0     29.0      5.0      6.0   \n",
       "3  6 slices french toast   1337.0    473.0     87.0     31.0     29.0   \n",
       "4            20 servings    830.0    117.0     30.0     15.0     15.0   \n",
       "5             4 servings    545.0    188.0     51.0     26.0     31.0   \n",
       "\n",
       "                                           nutrition  \\\n",
       "1  423 calories; protein 30.9g; carbohydrates 1.2...   \n",
       "2  123 calories; protein 4.6g; carbohydrates 27.2...   \n",
       "3  240 calories; protein 10.6g; carbohydrates 33....   \n",
       "4  329 calories; protein 4.2g; carbohydrates 56.9...   \n",
       "5  630 calories; protein 26.5g; carbohydrates 55g...   \n",
       "\n",
       "                                         ingredients  recipe_score  \\\n",
       "1  1 (3 pound) whole chicken, giblets removed,sal...      4.711358   \n",
       "2                     1 ear corn, husked and cleaned      4.620229   \n",
       "3  6 thick slices bread,2  eggs,⅔ cup milk,¼ teas...      4.562596   \n",
       "4  1 (5 ounce) package instant vanilla pudding mi...      4.719960   \n",
       "5  1 (8 ounce) box elbow macaroni,¼ cup butter,¼ ...      4.414982   \n",
       "\n",
       "   number_of_reviews  calories  protein [g]  carbohydrates [g]  fat [g]  \\\n",
       "1             3953.0     423.0         30.9                1.2     32.1   \n",
       "2              524.0     123.0          4.6               27.2      1.7   \n",
       "3             1957.0     240.0         10.6               33.6      6.4   \n",
       "4             1007.0     329.0          4.2               56.9      9.6   \n",
       "5              841.0     630.0         26.5               55.0     33.6   \n",
       "\n",
       "   cholesterol [mg]  sodium [mg]  calories_per_serving  cinnamon  celery  \\\n",
       "1              97.0        661.9                  71.0         0       1   \n",
       "2               NaN         21.5                 123.0         0       0   \n",
       "3             128.3        477.7                  80.0         1       0   \n",
       "4               8.6        205.2                  17.0         0       0   \n",
       "5              99.6        777.0                 158.0         0       0   \n",
       "\n",
       "   pepper  garlic  cilantro  black pepper  parsley  vanilla  sage  rosemary  \\\n",
       "1       1       0         0             1        0        0     0         0   \n",
       "2       0       0         0             0        0        0     0         0   \n",
       "3       0       0         0             0        0        1     0         0   \n",
       "4       0       0         0             0        0        1     0         0   \n",
       "5       1       0         0             1        0        0     0         0   \n",
       "\n",
       "   oregano  thyme  cayenne pepper  sesame  clove  cumin  ginger  basil  \\\n",
       "1        0      0               0       0      0      0       0      0   \n",
       "2        0      0               0       0      0      0       0      0   \n",
       "3        0      0               0       0      0      0       0      0   \n",
       "4        0      0               0       0      0      0       0      0   \n",
       "5        0      0               0       0      0      0       0      0   \n",
       "\n",
       "   paprika  mustard  \n",
       "1        0        0  \n",
       "2        0        0  \n",
       "3        0        0  \n",
       "4        0        0  \n",
       "5        0        0  "
      ]
     },
     "execution_count": 38,
     "metadata": {},
     "output_type": "execute_result"
    }
   ],
   "source": [
    "allrecipes_df.head()"
   ]
  },
  {
   "cell_type": "markdown",
   "metadata": {},
   "source": [
    "Amazing! We are left with a great dataset prepared for further analysis. At this point we can save it for the use in the future."
   ]
  },
  {
   "cell_type": "code",
   "execution_count": 40,
   "metadata": {},
   "outputs": [],
   "source": [
    "allrecipes_df.to_csv('allrecipes_data.csv')"
   ]
  }
 ],
 "metadata": {
  "kernelspec": {
   "display_name": "Python 3",
   "language": "python",
   "name": "python3"
  },
  "language_info": {
   "codemirror_mode": {
    "name": "ipython",
    "version": 3
   },
   "file_extension": ".py",
   "mimetype": "text/x-python",
   "name": "python",
   "nbconvert_exporter": "python",
   "pygments_lexer": "ipython3",
   "version": "3.8.5"
  }
 },
 "nbformat": 4,
 "nbformat_minor": 4
}
