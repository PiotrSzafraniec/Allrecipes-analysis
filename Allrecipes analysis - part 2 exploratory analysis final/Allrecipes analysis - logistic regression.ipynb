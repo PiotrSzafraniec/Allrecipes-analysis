{
 "cells": [
  {
   "cell_type": "code",
   "execution_count": 1,
   "metadata": {},
   "outputs": [
    {
     "data": {
      "text/plain": [
       "1 stars              2.620955\n",
       "pepper               2.594935\n",
       "number_of_reviews    2.575376\n",
       "protein [g]          2.227576\n",
       "garlic               2.017040\n",
       "dtype: float64"
      ]
     },
     "execution_count": 1,
     "metadata": {},
     "output_type": "execute_result"
    }
   ],
   "source": [
    "# Import relevant modules and dataset\n",
    "\n",
    "import pandas as pd\n",
    "import numpy as np\n",
    "import matplotlib.pyplot as plt\n",
    "from statsmodels.stats.outliers_influence import variance_inflation_factor\n",
    "from statsmodels.tools.tools import add_constant\n",
    "from sklearn.metrics import confusion_matrix, plot_confusion_matrix, accuracy_score, roc_auc_score\n",
    "import sklearn.metrics as metrics\n",
    "from sklearn.model_selection import GridSearchCV\n",
    "from sklearn.linear_model import LogisticRegression\n",
    "from sklearn.model_selection import train_test_split\n",
    "\n",
    "allrecipes_df = pd.read_csv('allrecipes_data.csv', index_col = [0])\n",
    "\n",
    "# Data preprocessing\n",
    "\n",
    "types_of_meat = ['chicken', 'beef', 'turkey', 'poultry', 'lamb', 'pork', 'ham', 'bacon', 'sausage', 'salami', 'meat', 'ribs']\n",
    "\n",
    "allrecipes_df['has_meat'] = allrecipes_df['ingredients'].apply(lambda x: any(s.lower() in x for s in types_of_meat))\n",
    "has_meat = allrecipes_df['has_meat']\n",
    "\n",
    "# Remove columns with object datatype\n",
    "data = allrecipes_df.drop(columns = ['name', 'yield', 'nutrition', 'ingredients'])\n",
    "\n",
    "# Check for columns with high number of null values and remove them\n",
    "data.isnull().sum()\n",
    "data = data.drop(columns = ['cook', 'additional', 'cholesterol [mg]'])\n",
    "\n",
    "# Drop all rows with null values in any of the remaining columns\n",
    "data.dropna(inplace = True)\n",
    "\n",
    "# Correlation matrix - mask is applied to remove only one of two highly correlated features in the next step\n",
    "\n",
    "corr_matrix = data.corr().abs()\n",
    "\n",
    "mask = np.triu(np.ones_like(corr_matrix, dtype = bool))\n",
    "\n",
    "tri_df = corr_matrix.mask(mask)\n",
    "\n",
    "# Dropping features with high correlation\n",
    "\n",
    "to_drop = [c for c in tri_df.columns if any(tri_df[c] >= 0.8)]\n",
    "\n",
    "data.drop(columns = to_drop, inplace = True)\n",
    "\n",
    "# Remove dependent feature (considering it's a boolean)\n",
    "\n",
    "X = data.iloc[:, :-1]\n",
    "y = data.iloc[:, -1]\n",
    "\n",
    "# Verify VIF values for remaining features - print 5 highest scored features (not including const).\n",
    "# All less than 10 means that features are fine.\n",
    "# If value is over 10 feature is considered to have high multicollinearity and should be removed to avoid overfitting\n",
    "X = add_constant(X)\n",
    "pd.Series([variance_inflation_factor(X.values, i) \n",
    "               for i in range(X.shape[1])], \n",
    "              index=X.columns).sort_values(ascending = False).head(6).tail(5)"
   ]
  },
  {
   "cell_type": "code",
   "execution_count": 2,
   "metadata": {},
   "outputs": [
    {
     "data": {
      "text/html": [
       "<div>\n",
       "<style scoped>\n",
       "    .dataframe tbody tr th:only-of-type {\n",
       "        vertical-align: middle;\n",
       "    }\n",
       "\n",
       "    .dataframe tbody tr th {\n",
       "        vertical-align: top;\n",
       "    }\n",
       "\n",
       "    .dataframe thead th {\n",
       "        text-align: right;\n",
       "    }\n",
       "</style>\n",
       "<table border=\"1\" class=\"dataframe\">\n",
       "  <thead>\n",
       "    <tr style=\"text-align: right;\">\n",
       "      <th></th>\n",
       "      <th>const</th>\n",
       "      <th>prep</th>\n",
       "      <th>total</th>\n",
       "      <th>servings</th>\n",
       "      <th>1 stars</th>\n",
       "      <th>recipe_score</th>\n",
       "      <th>number_of_reviews</th>\n",
       "      <th>protein [g]</th>\n",
       "      <th>carbohydrates [g]</th>\n",
       "      <th>fat [g]</th>\n",
       "      <th>...</th>\n",
       "      <th>oregano</th>\n",
       "      <th>thyme</th>\n",
       "      <th>cayenne pepper</th>\n",
       "      <th>sesame</th>\n",
       "      <th>clove</th>\n",
       "      <th>cumin</th>\n",
       "      <th>ginger</th>\n",
       "      <th>basil</th>\n",
       "      <th>paprika</th>\n",
       "      <th>mustard</th>\n",
       "    </tr>\n",
       "  </thead>\n",
       "  <tbody>\n",
       "    <tr>\n",
       "      <th>0</th>\n",
       "      <td>0.000</td>\n",
       "      <td>0.019</td>\n",
       "      <td>0.009</td>\n",
       "      <td>0.042</td>\n",
       "      <td>0.148</td>\n",
       "      <td>0.856</td>\n",
       "      <td>0.235</td>\n",
       "      <td>0.336</td>\n",
       "      <td>0.006</td>\n",
       "      <td>0.200</td>\n",
       "      <td>...</td>\n",
       "      <td>0.000</td>\n",
       "      <td>0.000</td>\n",
       "      <td>0.000</td>\n",
       "      <td>0.000</td>\n",
       "      <td>0.000</td>\n",
       "      <td>0.000</td>\n",
       "      <td>0.000</td>\n",
       "      <td>0.000</td>\n",
       "      <td>0.000</td>\n",
       "      <td>0.000</td>\n",
       "    </tr>\n",
       "    <tr>\n",
       "      <th>1</th>\n",
       "      <td>0.000</td>\n",
       "      <td>0.008</td>\n",
       "      <td>0.002</td>\n",
       "      <td>0.017</td>\n",
       "      <td>0.102</td>\n",
       "      <td>0.781</td>\n",
       "      <td>0.116</td>\n",
       "      <td>0.115</td>\n",
       "      <td>0.183</td>\n",
       "      <td>0.040</td>\n",
       "      <td>...</td>\n",
       "      <td>0.000</td>\n",
       "      <td>0.000</td>\n",
       "      <td>0.000</td>\n",
       "      <td>0.000</td>\n",
       "      <td>0.000</td>\n",
       "      <td>0.000</td>\n",
       "      <td>0.000</td>\n",
       "      <td>0.000</td>\n",
       "      <td>0.000</td>\n",
       "      <td>0.000</td>\n",
       "    </tr>\n",
       "    <tr>\n",
       "      <th>2</th>\n",
       "      <td>0.000</td>\n",
       "      <td>0.050</td>\n",
       "      <td>0.002</td>\n",
       "      <td>0.160</td>\n",
       "      <td>0.053</td>\n",
       "      <td>0.860</td>\n",
       "      <td>0.060</td>\n",
       "      <td>0.046</td>\n",
       "      <td>0.310</td>\n",
       "      <td>0.060</td>\n",
       "      <td>...</td>\n",
       "      <td>0.000</td>\n",
       "      <td>0.000</td>\n",
       "      <td>0.000</td>\n",
       "      <td>0.000</td>\n",
       "      <td>0.000</td>\n",
       "      <td>0.000</td>\n",
       "      <td>0.000</td>\n",
       "      <td>0.000</td>\n",
       "      <td>0.000</td>\n",
       "      <td>0.000</td>\n",
       "    </tr>\n",
       "    <tr>\n",
       "      <th>3</th>\n",
       "      <td>0.000</td>\n",
       "      <td>0.019</td>\n",
       "      <td>0.003</td>\n",
       "      <td>0.025</td>\n",
       "      <td>0.110</td>\n",
       "      <td>0.707</td>\n",
       "      <td>0.050</td>\n",
       "      <td>0.288</td>\n",
       "      <td>0.300</td>\n",
       "      <td>0.209</td>\n",
       "      <td>...</td>\n",
       "      <td>0.000</td>\n",
       "      <td>0.000</td>\n",
       "      <td>0.000</td>\n",
       "      <td>0.000</td>\n",
       "      <td>0.000</td>\n",
       "      <td>0.000</td>\n",
       "      <td>0.000</td>\n",
       "      <td>0.000</td>\n",
       "      <td>0.000</td>\n",
       "      <td>0.000</td>\n",
       "    </tr>\n",
       "    <tr>\n",
       "      <th>4</th>\n",
       "      <td>0.000</td>\n",
       "      <td>0.019</td>\n",
       "      <td>0.023</td>\n",
       "      <td>0.025</td>\n",
       "      <td>0.000</td>\n",
       "      <td>0.750</td>\n",
       "      <td>0.001</td>\n",
       "      <td>0.359</td>\n",
       "      <td>0.047</td>\n",
       "      <td>0.229</td>\n",
       "      <td>...</td>\n",
       "      <td>0.000</td>\n",
       "      <td>0.000</td>\n",
       "      <td>0.000</td>\n",
       "      <td>0.000</td>\n",
       "      <td>1.000</td>\n",
       "      <td>0.000</td>\n",
       "      <td>0.000</td>\n",
       "      <td>0.000</td>\n",
       "      <td>0.000</td>\n",
       "      <td>0.000</td>\n",
       "    </tr>\n",
       "  </tbody>\n",
       "</table>\n",
       "<p>5 rows × 32 columns</p>\n",
       "</div>"
      ],
      "text/plain": [
       "   const  prep  total  servings  1 stars  recipe_score  number_of_reviews  \\\n",
       "0  0.000 0.019  0.009     0.042    0.148         0.856              0.235   \n",
       "1  0.000 0.008  0.002     0.017    0.102         0.781              0.116   \n",
       "2  0.000 0.050  0.002     0.160    0.053         0.860              0.060   \n",
       "3  0.000 0.019  0.003     0.025    0.110         0.707              0.050   \n",
       "4  0.000 0.019  0.023     0.025    0.000         0.750              0.001   \n",
       "\n",
       "   protein [g]  carbohydrates [g]  fat [g]  ...  oregano  thyme  \\\n",
       "0        0.336              0.006    0.200  ...    0.000  0.000   \n",
       "1        0.115              0.183    0.040  ...    0.000  0.000   \n",
       "2        0.046              0.310    0.060  ...    0.000  0.000   \n",
       "3        0.288              0.300    0.209  ...    0.000  0.000   \n",
       "4        0.359              0.047    0.229  ...    0.000  0.000   \n",
       "\n",
       "   cayenne pepper  sesame  clove  cumin  ginger  basil  paprika  mustard  \n",
       "0           0.000   0.000  0.000  0.000   0.000  0.000    0.000    0.000  \n",
       "1           0.000   0.000  0.000  0.000   0.000  0.000    0.000    0.000  \n",
       "2           0.000   0.000  0.000  0.000   0.000  0.000    0.000    0.000  \n",
       "3           0.000   0.000  0.000  0.000   0.000  0.000    0.000    0.000  \n",
       "4           0.000   0.000  1.000  0.000   0.000  0.000    0.000    0.000  \n",
       "\n",
       "[5 rows x 32 columns]"
      ]
     },
     "execution_count": 2,
     "metadata": {},
     "output_type": "execute_result"
    }
   ],
   "source": [
    "# Normalize data\n",
    "\n",
    "from sklearn.preprocessing import MinMaxScaler\n",
    "columns = X.columns\n",
    "norm = MinMaxScaler()\n",
    "X_norm = norm.fit_transform(X)\n",
    "X_norm = pd.DataFrame(X_norm, columns = columns)\n",
    "\n",
    "pd.set_option('display.float_format', lambda x: '%.3f' % x)\n",
    "X_norm.head()"
   ]
  },
  {
   "cell_type": "code",
   "execution_count": 3,
   "metadata": {},
   "outputs": [
    {
     "name": "stdout",
     "output_type": "stream",
     "text": [
      "X_train: (729, 32)\n",
      "y_train: (729,)\n",
      "X_test: (183, 32)\n",
      "y_test: (183,)\n"
     ]
    },
    {
     "data": {
      "text/plain": [
       "LogisticRegression()"
      ]
     },
     "execution_count": 3,
     "metadata": {},
     "output_type": "execute_result"
    }
   ],
   "source": [
    "# Train data\n",
    "\n",
    "X = X_norm.values\n",
    "y = y.values.astype(int)\n",
    "\n",
    "X_train, X_test, y_train, y_test = train_test_split (X, y, test_size=0.2, random_state=0)\n",
    "\n",
    "print('X_train:', np.shape(X_train))\n",
    "print('y_train:', np.shape(y_train))\n",
    "print('X_test:', np.shape(X_test))\n",
    "print('y_test:', np.shape(y_test))\n",
    "\n",
    "classifier = LogisticRegression()\n",
    "classifier.fit(X_train,y_train)"
   ]
  },
  {
   "cell_type": "code",
   "execution_count": 4,
   "metadata": {},
   "outputs": [
    {
     "name": "stdout",
     "output_type": "stream",
     "text": [
      "[[1 1]\n",
      " [0 1]\n",
      " [0 1]\n",
      " [0 0]\n",
      " [0 1]]\n"
     ]
    }
   ],
   "source": [
    "# Predict the results\n",
    "y_pred = classifier.predict(X_test)\n",
    "\n",
    "# Print 5 first comparisons between y_pred and y_test\n",
    "print(np.concatenate((y_pred.reshape(len(y_pred),1), y_test.reshape(len(y_test),1)),1)[:5])"
   ]
  },
  {
   "cell_type": "code",
   "execution_count": 5,
   "metadata": {},
   "outputs": [
    {
     "name": "stdout",
     "output_type": "stream",
     "text": [
      "[[91 24]\n",
      " [25 43]]\n"
     ]
    },
    {
     "data": {
      "image/png": "[encoded data removed]",
      "text/plain": [
       "<Figure size 432x288 with 2 Axes>"
      ]
     },
     "metadata": {
      "needs_background": "light"
     },
     "output_type": "display_data"
    }
   ],
   "source": [
    "# Confusion matrix\n",
    "\n",
    "cm = confusion_matrix(y_test, y_pred)\n",
    "print(cm)\n",
    "\n",
    "plot_confusion_matrix(classifier, X_test, y_test)  \n",
    "plt.show()"
   ]
  },
  {
   "cell_type": "code",
   "execution_count": 6,
   "metadata": {},
   "outputs": [
    {
     "name": "stdout",
     "output_type": "stream",
     "text": [
      "Model accuracy: 73.22%\n",
      "AUC-ROC score value: 0.712\n"
     ]
    }
   ],
   "source": [
    "logreg=accuracy_score(y_test,y_pred)\n",
    "print(f'Model accuracy: {logreg * 100:.2f}%')\n",
    "\n",
    "roc_auc = roc_auc_score(y_test, y_pred)\n",
    "print(f'AUC-ROC score value: {roc_auc:.3f}')"
   ]
  },
  {
   "cell_type": "code",
   "execution_count": 7,
   "metadata": {},
   "outputs": [
    {
     "name": "stdout",
     "output_type": "stream",
     "text": [
      "              precision    recall  f1-score   support\n",
      "\n",
      "           0       0.78      0.79      0.79       115\n",
      "           1       0.64      0.63      0.64        68\n",
      "\n",
      "    accuracy                           0.73       183\n",
      "   macro avg       0.71      0.71      0.71       183\n",
      "weighted avg       0.73      0.73      0.73       183\n",
      "\n"
     ]
    }
   ],
   "source": [
    "print(metrics.classification_report(y_test, y_pred))"
   ]
  },
  {
   "cell_type": "code",
   "execution_count": 8,
   "metadata": {},
   "outputs": [
    {
     "name": "stdout",
     "output_type": "stream",
     "text": [
      "Best Accuracy of LR: 80.52 %\n",
      "Best Parameter of LR: {'C': 100, 'penalty': 'l2'}\n"
     ]
    }
   ],
   "source": [
    "parameters_lr = [{'penalty':['l1','l2'],'C': [0.001, 0.01, 0.1, 1, 10, 100, 1000]}]\n",
    "grid_search_lr = GridSearchCV(estimator = classifier,\n",
    "                           param_grid = parameters_lr,\n",
    "                           scoring = 'accuracy',\n",
    "                           cv = 10,\n",
    "                           n_jobs = -1)\n",
    "grid_search_lr.fit(X_train, y_train)\n",
    "best_accuracy_lr = grid_search_lr.best_score_\n",
    "best_paramaeter_lr = grid_search_lr.best_params_  \n",
    "print(\"Best Accuracy of LR: {:.2f} %\".format(best_accuracy_lr.mean()*100))\n",
    "print(\"Best Parameter of LR:\", best_paramaeter_lr)"
   ]
  }
 ],
 "metadata": {
  "kernelspec": {
   "display_name": "Python 3",
   "language": "python",
   "name": "python3"
  },
  "language_info": {
   "codemirror_mode": {
    "name": "ipython",
    "version": 3
   },
   "file_extension": ".py",
   "mimetype": "text/x-python",
   "name": "python",
   "nbconvert_exporter": "python",
   "pygments_lexer": "ipython3",
   "version": "3.8.5"
  }
 },
 "nbformat": 4,
 "nbformat_minor": 4
}
